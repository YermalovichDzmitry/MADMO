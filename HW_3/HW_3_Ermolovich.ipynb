{
  "nbformat": 4,
  "nbformat_minor": 0,
  "metadata": {
    "colab": {
      "name": "HW_3",
      "provenance": [],
      "collapsed_sections": []
    },
    "kernelspec": {
      "name": "python3",
      "display_name": "Python 3"
    },
    "language_info": {
      "name": "python"
    }
  },
  "cells": [
    {
      "cell_type": "code",
      "execution_count": 3,
      "metadata": {
        "id": "mQGNftGFkkkC"
      },
      "outputs": [],
      "source": [
        "import pandas as pd\n",
        "from sklearn.model_selection import train_test_split\n",
        "import numpy as np\n",
        "from sklearn.metrics import classification_report\n",
        "from sklearn.svm import SVC"
      ]
    },
    {
      "cell_type": "code",
      "source": [
        ""
      ],
      "metadata": {
        "id": "K-S-wnVWm8zN"
      },
      "execution_count": null,
      "outputs": []
    },
    {
      "cell_type": "code",
      "source": [
        "from google.colab import drive\n",
        "drive.mount('/content/drive')\n",
        "\n",
        "%cd /content/drive/MyDrive/Kaggle/\n",
        "%ls"
      ],
      "metadata": {
        "colab": {
          "base_uri": "https://localhost:8080/"
        },
        "id": "F0Ecka8vlI8i",
        "outputId": "500e747e-ba9c-46c3-9dc1-d2b501cec911"
      },
      "execution_count": 4,
      "outputs": [
        {
          "output_type": "stream",
          "name": "stdout",
          "text": [
            "Drive already mounted at /content/drive; to attempt to forcibly remount, call drive.mount(\"/content/drive\", force_remount=True).\n",
            "/content/drive/MyDrive/Kaggle\n",
            "creditcard.csv  kaggle.json       test_twitter.csv\n",
            "heart.csv       o2Saturation.csv  train_twitter.csv\n"
          ]
        }
      ]
    },
    {
      "cell_type": "code",
      "source": [
        "df_train=pd.read_csv(\"train_twitter.csv\")"
      ],
      "metadata": {
        "id": "UOXfecjGmfVG"
      },
      "execution_count": 5,
      "outputs": []
    },
    {
      "cell_type": "code",
      "source": [
        "df_train.info()"
      ],
      "metadata": {
        "colab": {
          "base_uri": "https://localhost:8080/"
        },
        "id": "2WdWkT7It3U1",
        "outputId": "14fe20cf-1ec6-4086-e302-1546ca4219bf"
      },
      "execution_count": 5,
      "outputs": [
        {
          "output_type": "stream",
          "name": "stdout",
          "text": [
            "<class 'pandas.core.frame.DataFrame'>\n",
            "RangeIndex: 31962 entries, 0 to 31961\n",
            "Data columns (total 3 columns):\n",
            " #   Column  Non-Null Count  Dtype \n",
            "---  ------  --------------  ----- \n",
            " 0   id      31962 non-null  int64 \n",
            " 1   label   31962 non-null  int64 \n",
            " 2   tweet   31962 non-null  object\n",
            "dtypes: int64(2), object(1)\n",
            "memory usage: 749.2+ KB\n"
          ]
        }
      ]
    },
    {
      "cell_type": "code",
      "source": [
        "df_train.head()"
      ],
      "metadata": {
        "colab": {
          "base_uri": "https://localhost:8080/",
          "height": 206
        },
        "id": "YbGDfv4Vmzcl",
        "outputId": "437b3093-d3eb-4cb0-f85f-647631616850"
      },
      "execution_count": 6,
      "outputs": [
        {
          "output_type": "execute_result",
          "data": {
            "text/plain": [
              "   id  label                                              tweet\n",
              "0   1      0   @user when a father is dysfunctional and is s...\n",
              "1   2      0  @user @user thanks for #lyft credit i can't us...\n",
              "2   3      0                                bihday your majesty\n",
              "3   4      0  #model   i love u take with u all the time in ...\n",
              "4   5      0             factsguide: society now    #motivation"
            ],
            "text/html": [
              "\n",
              "  <div id=\"df-25c30cd9-ef94-4ed5-8029-d30e0890efc0\">\n",
              "    <div class=\"colab-df-container\">\n",
              "      <div>\n",
              "<style scoped>\n",
              "    .dataframe tbody tr th:only-of-type {\n",
              "        vertical-align: middle;\n",
              "    }\n",
              "\n",
              "    .dataframe tbody tr th {\n",
              "        vertical-align: top;\n",
              "    }\n",
              "\n",
              "    .dataframe thead th {\n",
              "        text-align: right;\n",
              "    }\n",
              "</style>\n",
              "<table border=\"1\" class=\"dataframe\">\n",
              "  <thead>\n",
              "    <tr style=\"text-align: right;\">\n",
              "      <th></th>\n",
              "      <th>id</th>\n",
              "      <th>label</th>\n",
              "      <th>tweet</th>\n",
              "    </tr>\n",
              "  </thead>\n",
              "  <tbody>\n",
              "    <tr>\n",
              "      <th>0</th>\n",
              "      <td>1</td>\n",
              "      <td>0</td>\n",
              "      <td>@user when a father is dysfunctional and is s...</td>\n",
              "    </tr>\n",
              "    <tr>\n",
              "      <th>1</th>\n",
              "      <td>2</td>\n",
              "      <td>0</td>\n",
              "      <td>@user @user thanks for #lyft credit i can't us...</td>\n",
              "    </tr>\n",
              "    <tr>\n",
              "      <th>2</th>\n",
              "      <td>3</td>\n",
              "      <td>0</td>\n",
              "      <td>bihday your majesty</td>\n",
              "    </tr>\n",
              "    <tr>\n",
              "      <th>3</th>\n",
              "      <td>4</td>\n",
              "      <td>0</td>\n",
              "      <td>#model   i love u take with u all the time in ...</td>\n",
              "    </tr>\n",
              "    <tr>\n",
              "      <th>4</th>\n",
              "      <td>5</td>\n",
              "      <td>0</td>\n",
              "      <td>factsguide: society now    #motivation</td>\n",
              "    </tr>\n",
              "  </tbody>\n",
              "</table>\n",
              "</div>\n",
              "      <button class=\"colab-df-convert\" onclick=\"convertToInteractive('df-25c30cd9-ef94-4ed5-8029-d30e0890efc0')\"\n",
              "              title=\"Convert this dataframe to an interactive table.\"\n",
              "              style=\"display:none;\">\n",
              "        \n",
              "  <svg xmlns=\"http://www.w3.org/2000/svg\" height=\"24px\"viewBox=\"0 0 24 24\"\n",
              "       width=\"24px\">\n",
              "    <path d=\"M0 0h24v24H0V0z\" fill=\"none\"/>\n",
              "    <path d=\"M18.56 5.44l.94 2.06.94-2.06 2.06-.94-2.06-.94-.94-2.06-.94 2.06-2.06.94zm-11 1L8.5 8.5l.94-2.06 2.06-.94-2.06-.94L8.5 2.5l-.94 2.06-2.06.94zm10 10l.94 2.06.94-2.06 2.06-.94-2.06-.94-.94-2.06-.94 2.06-2.06.94z\"/><path d=\"M17.41 7.96l-1.37-1.37c-.4-.4-.92-.59-1.43-.59-.52 0-1.04.2-1.43.59L10.3 9.45l-7.72 7.72c-.78.78-.78 2.05 0 2.83L4 21.41c.39.39.9.59 1.41.59.51 0 1.02-.2 1.41-.59l7.78-7.78 2.81-2.81c.8-.78.8-2.07 0-2.86zM5.41 20L4 18.59l7.72-7.72 1.47 1.35L5.41 20z\"/>\n",
              "  </svg>\n",
              "      </button>\n",
              "      \n",
              "  <style>\n",
              "    .colab-df-container {\n",
              "      display:flex;\n",
              "      flex-wrap:wrap;\n",
              "      gap: 12px;\n",
              "    }\n",
              "\n",
              "    .colab-df-convert {\n",
              "      background-color: #E8F0FE;\n",
              "      border: none;\n",
              "      border-radius: 50%;\n",
              "      cursor: pointer;\n",
              "      display: none;\n",
              "      fill: #1967D2;\n",
              "      height: 32px;\n",
              "      padding: 0 0 0 0;\n",
              "      width: 32px;\n",
              "    }\n",
              "\n",
              "    .colab-df-convert:hover {\n",
              "      background-color: #E2EBFA;\n",
              "      box-shadow: 0px 1px 2px rgba(60, 64, 67, 0.3), 0px 1px 3px 1px rgba(60, 64, 67, 0.15);\n",
              "      fill: #174EA6;\n",
              "    }\n",
              "\n",
              "    [theme=dark] .colab-df-convert {\n",
              "      background-color: #3B4455;\n",
              "      fill: #D2E3FC;\n",
              "    }\n",
              "\n",
              "    [theme=dark] .colab-df-convert:hover {\n",
              "      background-color: #434B5C;\n",
              "      box-shadow: 0px 1px 3px 1px rgba(0, 0, 0, 0.15);\n",
              "      filter: drop-shadow(0px 1px 2px rgba(0, 0, 0, 0.3));\n",
              "      fill: #FFFFFF;\n",
              "    }\n",
              "  </style>\n",
              "\n",
              "      <script>\n",
              "        const buttonEl =\n",
              "          document.querySelector('#df-25c30cd9-ef94-4ed5-8029-d30e0890efc0 button.colab-df-convert');\n",
              "        buttonEl.style.display =\n",
              "          google.colab.kernel.accessAllowed ? 'block' : 'none';\n",
              "\n",
              "        async function convertToInteractive(key) {\n",
              "          const element = document.querySelector('#df-25c30cd9-ef94-4ed5-8029-d30e0890efc0');\n",
              "          const dataTable =\n",
              "            await google.colab.kernel.invokeFunction('convertToInteractive',\n",
              "                                                     [key], {});\n",
              "          if (!dataTable) return;\n",
              "\n",
              "          const docLinkHtml = 'Like what you see? Visit the ' +\n",
              "            '<a target=\"_blank\" href=https://colab.research.google.com/notebooks/data_table.ipynb>data table notebook</a>'\n",
              "            + ' to learn more about interactive tables.';\n",
              "          element.innerHTML = '';\n",
              "          dataTable['output_type'] = 'display_data';\n",
              "          await google.colab.output.renderOutput(dataTable, element);\n",
              "          const docLink = document.createElement('div');\n",
              "          docLink.innerHTML = docLinkHtml;\n",
              "          element.appendChild(docLink);\n",
              "        }\n",
              "      </script>\n",
              "    </div>\n",
              "  </div>\n",
              "  "
            ]
          },
          "metadata": {},
          "execution_count": 6
        }
      ]
    },
    {
      "cell_type": "markdown",
      "source": [
        "Исследуем на сбалансированность"
      ],
      "metadata": {
        "id": "BlLEFAJypIGN"
      }
    },
    {
      "cell_type": "code",
      "source": [
        "df_train['label'].value_counts()"
      ],
      "metadata": {
        "colab": {
          "base_uri": "https://localhost:8080/"
        },
        "id": "7LtTNk4inFK7",
        "outputId": "babfefa3-2494-4dd6-982a-ebde1cc92247"
      },
      "execution_count": 7,
      "outputs": [
        {
          "output_type": "execute_result",
          "data": {
            "text/plain": [
              "0    29720\n",
              "1     2242\n",
              "Name: label, dtype: int64"
            ]
          },
          "metadata": {},
          "execution_count": 7
        }
      ]
    },
    {
      "cell_type": "markdown",
      "source": [
        "Данные несбалансированные"
      ],
      "metadata": {
        "id": "SMrDyCGao94o"
      }
    },
    {
      "cell_type": "code",
      "source": [
        ""
      ],
      "metadata": {
        "id": "Cz4yXXEonOR9"
      },
      "execution_count": null,
      "outputs": []
    },
    {
      "cell_type": "markdown",
      "source": [
        "Подготовка данных для тренировки"
      ],
      "metadata": {
        "id": "yMoBLa8Dq9Hm"
      }
    },
    {
      "cell_type": "code",
      "source": [
        "X_train,X_test,y_train,y_test=train_test_split(df_train['tweet'],df_train['label'],test_size=0.2,shuffle=True,stratify=df_train['label'],random_state=1230)"
      ],
      "metadata": {
        "id": "JV1fLHqJrEDT"
      },
      "execution_count": 6,
      "outputs": []
    },
    {
      "cell_type": "code",
      "source": [
        "X_train.shape,X_test.shape"
      ],
      "metadata": {
        "colab": {
          "base_uri": "https://localhost:8080/"
        },
        "id": "h1FrnNYNvPOe",
        "outputId": "c2e66d85-03fc-4c9e-fe2d-6b7bd5f010c0"
      },
      "execution_count": 9,
      "outputs": [
        {
          "output_type": "execute_result",
          "data": {
            "text/plain": [
              "((25569,), (6393,))"
            ]
          },
          "metadata": {},
          "execution_count": 9
        }
      ]
    },
    {
      "cell_type": "code",
      "source": [
        "print(y_train.value_counts())\n",
        "print()\n",
        "print(y_train.value_counts(normalize=True))"
      ],
      "metadata": {
        "colab": {
          "base_uri": "https://localhost:8080/"
        },
        "id": "JZdRDcNsvZmE",
        "outputId": "0a5c858b-8c58-4d05-abb5-d641cc6783ec"
      },
      "execution_count": null,
      "outputs": [
        {
          "output_type": "stream",
          "name": "stdout",
          "text": [
            "0    23775\n",
            "1     1794\n",
            "Name: label, dtype: int64\n",
            "\n",
            "0    0.929837\n",
            "1    0.070163\n",
            "Name: label, dtype: float64\n"
          ]
        }
      ]
    },
    {
      "cell_type": "code",
      "source": [
        "print(y_test.value_counts())\n",
        "print()\n",
        "print(y_test.value_counts(normalize=True))"
      ],
      "metadata": {
        "colab": {
          "base_uri": "https://localhost:8080/"
        },
        "id": "oTOqlbjzvgpD",
        "outputId": "b4b12d5e-9aa2-4888-e156-209c3852ddac"
      },
      "execution_count": null,
      "outputs": [
        {
          "output_type": "stream",
          "name": "stdout",
          "text": [
            "0    5945\n",
            "1     448\n",
            "Name: label, dtype: int64\n",
            "\n",
            "0    0.929923\n",
            "1    0.070077\n",
            "Name: label, dtype: float64\n"
          ]
        }
      ]
    },
    {
      "cell_type": "code",
      "source": [
        "X_train=np.array(X_train)\n",
        "X_test=np.array(X_test)\n",
        "y_train=np.array(y_train)\n",
        "y_test=np.array(y_test)"
      ],
      "metadata": {
        "id": "v28L3iqRv-Aa"
      },
      "execution_count": 7,
      "outputs": []
    },
    {
      "cell_type": "markdown",
      "source": [
        "Как видно данные разделились пропорционально"
      ],
      "metadata": {
        "id": "wDIeS5zJxuaR"
      }
    },
    {
      "cell_type": "code",
      "source": [
        ""
      ],
      "metadata": {
        "id": "o9NdsoG5yQPH"
      },
      "execution_count": null,
      "outputs": []
    },
    {
      "cell_type": "markdown",
      "source": [
        "Определение стоп слов"
      ],
      "metadata": {
        "id": "HVnb5KdEyNLl"
      }
    },
    {
      "cell_type": "code",
      "source": [
        "!pip install --user -U nltk"
      ],
      "metadata": {
        "colab": {
          "base_uri": "https://localhost:8080/"
        },
        "id": "-X8L_K86yMsn",
        "outputId": "51ac2b04-b94b-4805-c647-ccdc9721e253"
      },
      "execution_count": 9,
      "outputs": [
        {
          "output_type": "stream",
          "name": "stdout",
          "text": [
            "Looking in indexes: https://pypi.org/simple, https://us-python.pkg.dev/colab-wheels/public/simple/\n",
            "Requirement already satisfied: nltk in /root/.local/lib/python3.7/site-packages (3.7)\n",
            "Requirement already satisfied: click in /usr/local/lib/python3.7/dist-packages (from nltk) (7.1.2)\n",
            "Requirement already satisfied: tqdm in /usr/local/lib/python3.7/dist-packages (from nltk) (4.64.0)\n",
            "Requirement already satisfied: joblib in /usr/local/lib/python3.7/dist-packages (from nltk) (1.1.0)\n",
            "Requirement already satisfied: regex>=2021.8.3 in /root/.local/lib/python3.7/site-packages (from nltk) (2022.4.24)\n"
          ]
        }
      ]
    },
    {
      "cell_type": "code",
      "source": [
        "import nltk\n",
        "nltk.download(\"stopwords\")"
      ],
      "metadata": {
        "colab": {
          "base_uri": "https://localhost:8080/"
        },
        "id": "qURgC3P-ycw0",
        "outputId": "3ef9399d-7745-4b1e-978e-00768fb44327"
      },
      "execution_count": 10,
      "outputs": [
        {
          "output_type": "stream",
          "name": "stderr",
          "text": [
            "[nltk_data] Downloading package stopwords to /root/nltk_data...\n",
            "[nltk_data]   Package stopwords is already up-to-date!\n"
          ]
        },
        {
          "output_type": "execute_result",
          "data": {
            "text/plain": [
              "True"
            ]
          },
          "metadata": {},
          "execution_count": 10
        }
      ]
    },
    {
      "cell_type": "code",
      "source": [
        "from nltk.corpus import stopwords\n",
        "stopWords = stopwords.words('english')"
      ],
      "metadata": {
        "id": "f57Ixu89y495"
      },
      "execution_count": 11,
      "outputs": []
    },
    {
      "cell_type": "markdown",
      "source": [
        "Решение задач с помощью logistic regression"
      ],
      "metadata": {
        "id": "0JZadxX8wZ3p"
      }
    },
    {
      "cell_type": "code",
      "source": [
        "from sklearn.linear_model import LogisticRegression\n",
        "from sklearn.feature_extraction.text import TfidfVectorizer"
      ],
      "metadata": {
        "id": "dLG1GiKVwnHT"
      },
      "execution_count": null,
      "outputs": []
    },
    {
      "cell_type": "code",
      "source": [
        "tv=TfidfVectorizer(stop_words=stopWords[:25])\n",
        "tv=tv.fit(df_train['tweet'])"
      ],
      "metadata": {
        "id": "8QEBaxuQxemw",
        "colab": {
          "base_uri": "https://localhost:8080/"
        },
        "outputId": "de441e64-d86f-455c-fa43-60acd2839382"
      },
      "execution_count": null,
      "outputs": [
        {
          "output_type": "stream",
          "name": "stderr",
          "text": [
            "/usr/local/lib/python3.7/dist-packages/sklearn/feature_extraction/text.py:401: UserWarning: Your stop_words may be inconsistent with your preprocessing. Tokenizing the stop words generated tokens ['ll', 're', 've'] not in stop_words.\n",
            "  % sorted(inconsistent)\n"
          ]
        }
      ]
    },
    {
      "cell_type": "code",
      "source": [
        "X_train_tf_idf = tv.transform(X_train)\n",
        "X_test_tf_idf = tv.transform(X_test)"
      ],
      "metadata": {
        "id": "T7SwvwB7tvu3"
      },
      "execution_count": null,
      "outputs": []
    },
    {
      "cell_type": "code",
      "source": [
        "clf=LogisticRegression()\n",
        "clf=clf.fit(X_train_tf_idf,y_train)"
      ],
      "metadata": {
        "id": "2YpI0dK_ulAN"
      },
      "execution_count": null,
      "outputs": []
    },
    {
      "cell_type": "code",
      "source": [
        "y_hat=clf.predict(X_test_tf_idf)\n",
        "print(classification_report(y_test,y_hat))"
      ],
      "metadata": {
        "colab": {
          "base_uri": "https://localhost:8080/"
        },
        "id": "qe2cRbx2u0f8",
        "outputId": "d1a27f06-ca5b-4ffd-e42f-120ed1455a8d"
      },
      "execution_count": null,
      "outputs": [
        {
          "output_type": "stream",
          "name": "stdout",
          "text": [
            "              precision    recall  f1-score   support\n",
            "\n",
            "           0       0.95      1.00      0.97      5945\n",
            "           1       0.94      0.27      0.42       448\n",
            "\n",
            "    accuracy                           0.95      6393\n",
            "   macro avg       0.94      0.64      0.70      6393\n",
            "weighted avg       0.95      0.95      0.93      6393\n",
            "\n"
          ]
        }
      ]
    },
    {
      "cell_type": "markdown",
      "source": [
        "Logistic regression показала большой macro avg"
      ],
      "metadata": {
        "id": "ZOVB5jsqdXS1"
      }
    },
    {
      "cell_type": "code",
      "source": [
        ""
      ],
      "metadata": {
        "id": "mAmlY3_ZviK0"
      },
      "execution_count": null,
      "outputs": []
    },
    {
      "cell_type": "markdown",
      "source": [
        "Решение с помощью Naive Bayes"
      ],
      "metadata": {
        "id": "ubZLopSsvjeu"
      }
    },
    {
      "cell_type": "code",
      "source": [
        "from sklearn.naive_bayes import MultinomialNB,ComplementNB,BernoulliNB"
      ],
      "metadata": {
        "id": "m9ySTC86v1j6"
      },
      "execution_count": 28,
      "outputs": []
    },
    {
      "cell_type": "code",
      "source": [
        ""
      ],
      "metadata": {
        "id": "rWyiz4IXkovE"
      },
      "execution_count": null,
      "outputs": []
    },
    {
      "cell_type": "markdown",
      "source": [
        "Решение с помощью MultinomialNB без настройки параметров"
      ],
      "metadata": {
        "id": "0ZeQc6AhkpIK"
      }
    },
    {
      "cell_type": "code",
      "source": [
        "tv=TfidfVectorizer(stop_words=stopWords[:25])\n",
        "tv=tv.fit(df_train['tweet'])"
      ],
      "metadata": {
        "colab": {
          "base_uri": "https://localhost:8080/"
        },
        "outputId": "4159f780-e780-4814-a799-ac39af8ec728",
        "id": "vZ5Y82t0wUAa"
      },
      "execution_count": null,
      "outputs": [
        {
          "output_type": "stream",
          "name": "stderr",
          "text": [
            "/usr/local/lib/python3.7/dist-packages/sklearn/feature_extraction/text.py:401: UserWarning: Your stop_words may be inconsistent with your preprocessing. Tokenizing the stop words generated tokens ['ll', 're', 've'] not in stop_words.\n",
            "  % sorted(inconsistent)\n"
          ]
        }
      ]
    },
    {
      "cell_type": "code",
      "source": [
        "X_train_tf_idf = tv.transform(X_train)\n",
        "X_test_tf_idf = tv.transform(X_test)"
      ],
      "metadata": {
        "id": "oYk7m0vHwUAb"
      },
      "execution_count": null,
      "outputs": []
    },
    {
      "cell_type": "code",
      "source": [
        "mnb=MultinomialNB()\n",
        "mnb=mnb.fit(X_train_tf_idf,y_train)"
      ],
      "metadata": {
        "id": "1uL7tsKFktnc"
      },
      "execution_count": null,
      "outputs": []
    },
    {
      "cell_type": "code",
      "source": [
        "y_hat=mnb.predict(X_test_tf_idf)\n",
        "print(classification_report(y_test,y_hat))"
      ],
      "metadata": {
        "colab": {
          "base_uri": "https://localhost:8080/"
        },
        "outputId": "fe2462ef-100a-4f61-928d-4512c8e83384",
        "id": "lECPkLCFktng"
      },
      "execution_count": null,
      "outputs": [
        {
          "output_type": "stream",
          "name": "stdout",
          "text": [
            "              precision    recall  f1-score   support\n",
            "\n",
            "           0       0.94      1.00      0.97      5945\n",
            "           1       1.00      0.10      0.18       448\n",
            "\n",
            "    accuracy                           0.94      6393\n",
            "   macro avg       0.97      0.55      0.57      6393\n",
            "weighted avg       0.94      0.94      0.91      6393\n",
            "\n"
          ]
        }
      ]
    },
    {
      "cell_type": "markdown",
      "source": [
        "MultinomialNB macro avg ниже на 13% по сравнению  с logistic regression"
      ],
      "metadata": {
        "id": "0wzs319adeZb"
      }
    },
    {
      "cell_type": "code",
      "source": [
        ""
      ],
      "metadata": {
        "id": "JY9RT0gszHuz"
      },
      "execution_count": null,
      "outputs": []
    },
    {
      "cell_type": "markdown",
      "source": [
        "Решение с помощью MultinomialNB с настройкой параметров"
      ],
      "metadata": {
        "id": "Ow3XrUPqkzg1"
      }
    },
    {
      "cell_type": "code",
      "source": [
        "from sklearn.model_selection import GridSearchCV\n",
        "from sklearn.pipeline import make_pipeline\n",
        "from sklearn.pipeline import Pipeline"
      ],
      "metadata": {
        "id": "_t4jDjjbzJJH"
      },
      "execution_count": null,
      "outputs": []
    },
    {
      "cell_type": "code",
      "source": [
        "nb_pipe=Pipeline(steps=[(\"tfi\",TfidfVectorizer(stop_words=stopWords[:25])),(\"mnb\",MultinomialNB())])\n",
        "params={\n",
        "    \"tfi__ngram_range\":[(1,1),(1,2),(1,3)],\n",
        "    \"mnb__alpha\":[1,2,3]\n",
        "}\n",
        "gs_nmb=GridSearchCV(nb_pipe,params,cv=5,n_jobs=-1)"
      ],
      "metadata": {
        "id": "l6Y6G1AlzPAK"
      },
      "execution_count": null,
      "outputs": []
    },
    {
      "cell_type": "code",
      "source": [
        "gs_nmb=gs_nmb.fit(X_train,y_train)"
      ],
      "metadata": {
        "colab": {
          "base_uri": "https://localhost:8080/"
        },
        "id": "G0cjSPnp2fQN",
        "outputId": "5ba471fb-5192-4d60-cd92-02f5f910fc58"
      },
      "execution_count": null,
      "outputs": [
        {
          "output_type": "stream",
          "name": "stderr",
          "text": [
            "/usr/local/lib/python3.7/dist-packages/sklearn/feature_extraction/text.py:401: UserWarning: Your stop_words may be inconsistent with your preprocessing. Tokenizing the stop words generated tokens ['ll', 're', 've'] not in stop_words.\n",
            "  % sorted(inconsistent)\n"
          ]
        }
      ]
    },
    {
      "cell_type": "code",
      "source": [
        "gs_nmb.best_params_"
      ],
      "metadata": {
        "colab": {
          "base_uri": "https://localhost:8080/"
        },
        "id": "pvz2ywKj3EJN",
        "outputId": "056066e1-fbcf-4530-e4b4-287d15ca5455"
      },
      "execution_count": null,
      "outputs": [
        {
          "output_type": "execute_result",
          "data": {
            "text/plain": [
              "{'mnb__alpha': 1, 'tfi__ngram_range': (1, 1)}"
            ]
          },
          "metadata": {},
          "execution_count": 30
        }
      ]
    },
    {
      "cell_type": "code",
      "source": [
        "y_hat=gs_nmb.predict(X_test)\n",
        "print(classification_report(y_test,y_hat))"
      ],
      "metadata": {
        "colab": {
          "base_uri": "https://localhost:8080/"
        },
        "id": "iNaUX2km3INZ",
        "outputId": "da685614-51eb-4aaa-e128-1eb327422356"
      },
      "execution_count": null,
      "outputs": [
        {
          "output_type": "stream",
          "name": "stdout",
          "text": [
            "              precision    recall  f1-score   support\n",
            "\n",
            "           0       0.94      1.00      0.97      5945\n",
            "           1       1.00      0.11      0.20       448\n",
            "\n",
            "    accuracy                           0.94      6393\n",
            "   macro avg       0.97      0.55      0.58      6393\n",
            "weighted avg       0.94      0.94      0.91      6393\n",
            "\n"
          ]
        }
      ]
    },
    {
      "cell_type": "markdown",
      "source": [
        "С помощью перебора параметров macro avg у MultinomialNB вырос только на 1% по сравнение с тем же алгоритмом но без перебора параметров"
      ],
      "metadata": {
        "id": "hpR5X0iun07U"
      }
    },
    {
      "cell_type": "code",
      "source": [
        ""
      ],
      "metadata": {
        "id": "h0tfr619o2Ae"
      },
      "execution_count": null,
      "outputs": []
    },
    {
      "cell_type": "markdown",
      "source": [
        "Решение с помощью ComplementNB с настройкой параметров"
      ],
      "metadata": {
        "id": "NdLT3M_7mefI"
      }
    },
    {
      "cell_type": "code",
      "source": [
        "cnb_pipe=Pipeline(steps=[('tfidf',TfidfVectorizer(stop_words=stopWords[:25])),('cnb',ComplementNB())])\n",
        "params={\n",
        "    \"tfidf__ngram_range\":[(1,1),(1,2),(1,3)],\n",
        "    \"cnb__alpha\":np.linspace(0,1,2,3,4)\n",
        "}\n",
        "gs_cmb=GridSearchCV(cnb_pipe,params,cv=5,n_jobs=-1)"
      ],
      "metadata": {
        "id": "73JDujb_mlWA"
      },
      "execution_count": null,
      "outputs": []
    },
    {
      "cell_type": "code",
      "source": [
        "gs_cmb=gs_cmb.fit(X_train,y_train)"
      ],
      "metadata": {
        "colab": {
          "base_uri": "https://localhost:8080/"
        },
        "outputId": "ff7c980a-a940-4789-e495-de15523931a6",
        "id": "i5GSBM-2n_ns"
      },
      "execution_count": null,
      "outputs": [
        {
          "output_type": "stream",
          "name": "stderr",
          "text": [
            "/usr/local/lib/python3.7/dist-packages/sklearn/model_selection/_validation.py:372: FitFailedWarning: \n",
            "15 fits failed out of a total of 30.\n",
            "The score on these train-test partitions for these parameters will be set to nan.\n",
            "If these failures are not expected, you can try to debug them by setting error_score='raise'.\n",
            "\n",
            "Below are more details about the failures:\n",
            "--------------------------------------------------------------------------------\n",
            "15 fits failed with the following error:\n",
            "Traceback (most recent call last):\n",
            "  File \"/usr/local/lib/python3.7/dist-packages/sklearn/model_selection/_validation.py\", line 680, in _fit_and_score\n",
            "    estimator.fit(X_train, y_train, **fit_params)\n",
            "  File \"/usr/local/lib/python3.7/dist-packages/sklearn/pipeline.py\", line 394, in fit\n",
            "    self._final_estimator.fit(Xt, y, **fit_params_last_step)\n",
            "  File \"/usr/local/lib/python3.7/dist-packages/sklearn/naive_bayes.py\", line 691, in fit\n",
            "    alpha = self._check_alpha()\n",
            "  File \"/usr/local/lib/python3.7/dist-packages/sklearn/naive_bayes.py\", line 552, in _check_alpha\n",
            "    \"alpha should be a scalar or a numpy array with shape [n_features]\"\n",
            "ValueError: alpha should be a scalar or a numpy array with shape [n_features]\n",
            "\n",
            "  warnings.warn(some_fits_failed_message, FitFailedWarning)\n",
            "/usr/local/lib/python3.7/dist-packages/sklearn/model_selection/_search.py:972: UserWarning: One or more of the test scores are non-finite: [       nan        nan        nan 0.94821848 0.94829675 0.94903982]\n",
            "  category=UserWarning,\n",
            "/usr/local/lib/python3.7/dist-packages/sklearn/feature_extraction/text.py:401: UserWarning: Your stop_words may be inconsistent with your preprocessing. Tokenizing the stop words generated tokens ['ll', 're', 've'] not in stop_words.\n",
            "  % sorted(inconsistent)\n"
          ]
        }
      ]
    },
    {
      "cell_type": "code",
      "source": [
        "gs_nmb.best_params_"
      ],
      "metadata": {
        "colab": {
          "base_uri": "https://localhost:8080/"
        },
        "outputId": "67ecff0c-0187-4a2f-ae3e-240585f44ef4",
        "id": "UTBOkaOBn_nt"
      },
      "execution_count": null,
      "outputs": [
        {
          "output_type": "execute_result",
          "data": {
            "text/plain": [
              "{'mnb__alpha': 1, 'tfi__ngram_range': (1, 1)}"
            ]
          },
          "metadata": {},
          "execution_count": 34
        }
      ]
    },
    {
      "cell_type": "code",
      "source": [
        "y_hat=gs_nmb.predict(X_test)\n",
        "print(classification_report(y_test,y_hat))"
      ],
      "metadata": {
        "colab": {
          "base_uri": "https://localhost:8080/"
        },
        "outputId": "57d2a81e-9052-46a0-be09-cc801aaa92f5",
        "id": "acfJGsqVn_nt"
      },
      "execution_count": null,
      "outputs": [
        {
          "output_type": "stream",
          "name": "stdout",
          "text": [
            "              precision    recall  f1-score   support\n",
            "\n",
            "           0       0.94      1.00      0.97      5945\n",
            "           1       1.00      0.11      0.20       448\n",
            "\n",
            "    accuracy                           0.94      6393\n",
            "   macro avg       0.97      0.55      0.58      6393\n",
            "weighted avg       0.94      0.94      0.91      6393\n",
            "\n"
          ]
        }
      ]
    },
    {
      "cell_type": "markdown",
      "source": [
        "ComplementNB и MultinomialNB показали одинаковый macro-avg, что странно, потому что ComplementNB должен справлятся с небелансированными данными"
      ],
      "metadata": {
        "id": "3jnkF5MhoNjr"
      }
    },
    {
      "cell_type": "code",
      "source": [
        ""
      ],
      "metadata": {
        "id": "jZPLP1YCoqTP"
      },
      "execution_count": null,
      "outputs": []
    },
    {
      "cell_type": "markdown",
      "source": [
        "Решение с помощью BernulliNB с настройкой параметров"
      ],
      "metadata": {
        "id": "DB0FAq75ouHt"
      }
    },
    {
      "cell_type": "code",
      "source": [
        "nb_pipe=Pipeline(steps=[(\"tfi\",TfidfVectorizer(stop_words=stopWords[:25])),(\"bnb\",BernoulliNB())])\n",
        "params={\n",
        "    \"tfi__ngram_range\":[(1,1),(1,2),(1,3)],\n",
        "    \"bnb__alpha\":[0,1,2,3,4]\n",
        "}\n",
        "gs_bmb=GridSearchCV(nb_pipe,params,cv=5,n_jobs=-1)"
      ],
      "metadata": {
        "id": "uhnDScOBo2zA"
      },
      "execution_count": null,
      "outputs": []
    },
    {
      "cell_type": "code",
      "source": [
        "gs_bmb=gs_bmb.fit(X_train,y_train)"
      ],
      "metadata": {
        "colab": {
          "base_uri": "https://localhost:8080/"
        },
        "outputId": "10bf26f8-032f-4c3d-8a9a-0a0d390c666a",
        "id": "uXi-r5nto2zA"
      },
      "execution_count": null,
      "outputs": [
        {
          "output_type": "stream",
          "name": "stderr",
          "text": [
            "/usr/local/lib/python3.7/dist-packages/sklearn/feature_extraction/text.py:401: UserWarning: Your stop_words may be inconsistent with your preprocessing. Tokenizing the stop words generated tokens ['ll', 're', 've'] not in stop_words.\n",
            "  % sorted(inconsistent)\n",
            "/usr/local/lib/python3.7/dist-packages/sklearn/naive_bayes.py:557: UserWarning: alpha too small will result in numeric errors, setting alpha = 1.0e-10\n",
            "  % _ALPHA_MIN\n"
          ]
        }
      ]
    },
    {
      "cell_type": "code",
      "source": [
        "gs_bmb.best_params_"
      ],
      "metadata": {
        "colab": {
          "base_uri": "https://localhost:8080/"
        },
        "outputId": "87923601-6cbf-45bf-b570-c078c8e4fcaa",
        "id": "OybVE0Lxo2zB"
      },
      "execution_count": null,
      "outputs": [
        {
          "output_type": "execute_result",
          "data": {
            "text/plain": [
              "{'bnb__alpha': 0, 'tfi__ngram_range': (1, 2)}"
            ]
          },
          "metadata": {},
          "execution_count": 38
        }
      ]
    },
    {
      "cell_type": "code",
      "source": [
        "y_hat=gs_bmb.predict(X_test)\n",
        "print(classification_report(y_test,y_hat))"
      ],
      "metadata": {
        "colab": {
          "base_uri": "https://localhost:8080/"
        },
        "outputId": "f3f4e4ff-3e0e-4f03-fba9-edc719eee5f2",
        "id": "mMtM3JLJo2zB"
      },
      "execution_count": null,
      "outputs": [
        {
          "output_type": "stream",
          "name": "stdout",
          "text": [
            "              precision    recall  f1-score   support\n",
            "\n",
            "           0       0.97      1.00      0.98      5945\n",
            "           1       0.89      0.55      0.68       448\n",
            "\n",
            "    accuracy                           0.96      6393\n",
            "   macro avg       0.93      0.77      0.83      6393\n",
            "weighted avg       0.96      0.96      0.96      6393\n",
            "\n"
          ]
        }
      ]
    },
    {
      "cell_type": "markdown",
      "source": [
        "Вывод"
      ],
      "metadata": {
        "id": "B2vpItFjeU4z"
      }
    },
    {
      "cell_type": "markdown",
      "source": [
        "Алгоритм Bernoulli показал себя лучше всех, у него macro avg выше чем у compliment и multinomial на 25%. Возможно это из-за того что проблему можно описать как модель бернулли, то есть у нас цель представлена в виде двух значений 0 и 1."
      ],
      "metadata": {
        "id": "JwZHOzGbeagA"
      }
    },
    {
      "cell_type": "code",
      "source": [
        ""
      ],
      "metadata": {
        "id": "5F8arPxDfnes"
      },
      "execution_count": null,
      "outputs": []
    },
    {
      "cell_type": "markdown",
      "source": [
        "Данные несбалансированные, поэтому можно преминить стратегии over-sampling и under-sampling."
      ],
      "metadata": {
        "id": "X3T99g0VgVOg"
      }
    },
    {
      "cell_type": "code",
      "source": [
        ""
      ],
      "metadata": {
        "id": "deke9f42gneh"
      },
      "execution_count": null,
      "outputs": []
    },
    {
      "cell_type": "markdown",
      "source": [
        "Adasyn"
      ],
      "metadata": {
        "id": "nR-qKDzVgpJ6"
      }
    },
    {
      "cell_type": "code",
      "source": [
        "from imblearn.over_sampling import ADASYN"
      ],
      "metadata": {
        "id": "QubFc6wcgv5y"
      },
      "execution_count": 24,
      "outputs": []
    },
    {
      "cell_type": "code",
      "source": [
        "tv=TfidfVectorizer(stop_words=stopWords[:25])\n",
        "tv=tv.fit(df_train['tweet'])"
      ],
      "metadata": {
        "colab": {
          "base_uri": "https://localhost:8080/"
        },
        "outputId": "4d8b2081-279c-45ef-8761-b277be6e5ef0",
        "id": "AdAA8Cr_hEG6"
      },
      "execution_count": null,
      "outputs": [
        {
          "output_type": "stream",
          "name": "stderr",
          "text": [
            "/usr/local/lib/python3.7/dist-packages/sklearn/feature_extraction/text.py:401: UserWarning: Your stop_words may be inconsistent with your preprocessing. Tokenizing the stop words generated tokens ['ll', 're', 've'] not in stop_words.\n",
            "  % sorted(inconsistent)\n"
          ]
        }
      ]
    },
    {
      "cell_type": "code",
      "source": [
        "X_train_tf_idf = tv.transform(X_train)\n",
        "X_test_tf_idf = tv.transform(X_test)"
      ],
      "metadata": {
        "id": "-M0hV_lphEG7"
      },
      "execution_count": null,
      "outputs": []
    },
    {
      "cell_type": "code",
      "source": [
        "sum(y_train),len(y_train)- sum(y_train)"
      ],
      "metadata": {
        "colab": {
          "base_uri": "https://localhost:8080/"
        },
        "id": "RM1PhxWJhj2c",
        "outputId": "fbddabf6-8108-4492-c3f0-12a1ef719e33"
      },
      "execution_count": null,
      "outputs": [
        {
          "output_type": "execute_result",
          "data": {
            "text/plain": [
              "(1794, 23775)"
            ]
          },
          "metadata": {},
          "execution_count": 46
        }
      ]
    },
    {
      "cell_type": "code",
      "source": [
        "ad=ADASYN()\n",
        "X_train_tf_idf_adasyn,y_train_adasyn=ad.fit_resample(X_train_tf_idf,y_train)"
      ],
      "metadata": {
        "id": "p3znNRkug4CZ"
      },
      "execution_count": null,
      "outputs": []
    },
    {
      "cell_type": "code",
      "source": [
        "sum(y_train_adasyn),len(y_train_adasyn)- sum(y_train_adasyn)"
      ],
      "metadata": {
        "colab": {
          "base_uri": "https://localhost:8080/"
        },
        "id": "LZCrA4vqh3NG",
        "outputId": "d0158399-09a1-4040-a06e-6754345b9456"
      },
      "execution_count": null,
      "outputs": [
        {
          "output_type": "execute_result",
          "data": {
            "text/plain": [
              "(23758, 23775)"
            ]
          },
          "metadata": {},
          "execution_count": 49
        }
      ]
    },
    {
      "cell_type": "code",
      "source": [
        ""
      ],
      "metadata": {
        "id": "tH75DIGHh6eg"
      },
      "execution_count": null,
      "outputs": []
    },
    {
      "cell_type": "markdown",
      "source": [
        "Мультиномиальный байес без настройки параметров"
      ],
      "metadata": {
        "id": "xYeeP8NLjFga"
      }
    },
    {
      "cell_type": "code",
      "source": [
        "mnb=MultinomialNB()\n",
        "mnb=mnb.fit(X_train_tf_idf_adasyn,y_train_adasyn)"
      ],
      "metadata": {
        "id": "lp-OTGblwmVv"
      },
      "execution_count": null,
      "outputs": []
    },
    {
      "cell_type": "code",
      "source": [
        "y_hat=mnb.predict(X_test_tf_idf)\n",
        "print(classification_report(y_test,y_hat))"
      ],
      "metadata": {
        "colab": {
          "base_uri": "https://localhost:8080/"
        },
        "outputId": "60a970e0-f9f9-443c-93aa-9760ef6f8618",
        "id": "TbZNI_X0w41I"
      },
      "execution_count": null,
      "outputs": [
        {
          "output_type": "stream",
          "name": "stdout",
          "text": [
            "              precision    recall  f1-score   support\n",
            "\n",
            "           0       0.99      0.90      0.95      5945\n",
            "           1       0.41      0.90      0.57       448\n",
            "\n",
            "    accuracy                           0.90      6393\n",
            "   macro avg       0.70      0.90      0.76      6393\n",
            "weighted avg       0.95      0.90      0.92      6393\n",
            "\n"
          ]
        }
      ]
    },
    {
      "cell_type": "markdown",
      "source": [
        "После применения к данным ADASYN macro avg вырасло на 18% по сравнению с тем же самым алгоритмом, но без ADASYN"
      ],
      "metadata": {
        "id": "PNDydryAjKpO"
      }
    },
    {
      "cell_type": "code",
      "source": [
        ""
      ],
      "metadata": {
        "id": "Wo6rpAhLjJ7-"
      },
      "execution_count": null,
      "outputs": []
    },
    {
      "cell_type": "markdown",
      "source": [
        ""
      ],
      "metadata": {
        "id": "YsDCMOmCng7Z"
      }
    },
    {
      "cell_type": "markdown",
      "source": [
        "ComplementNB без настройки параметров"
      ],
      "metadata": {
        "id": "UL7I-Z2BniLr"
      }
    },
    {
      "cell_type": "code",
      "source": [
        "cnb=ComplementNB()\n",
        "cnb=cnb.fit(X_train_tf_idf_adasyn,y_train_adasyn)"
      ],
      "metadata": {
        "id": "us5EkN7UjPgk"
      },
      "execution_count": null,
      "outputs": []
    },
    {
      "cell_type": "code",
      "source": [
        "y_hat=cnb.predict(X_test_tf_idf)\n",
        "print(classification_report(y_test,y_hat))"
      ],
      "metadata": {
        "colab": {
          "base_uri": "https://localhost:8080/"
        },
        "outputId": "2219cf6d-71fe-4b01-bcf3-f35a2990e424",
        "id": "ANxIw6JKjPgk"
      },
      "execution_count": null,
      "outputs": [
        {
          "output_type": "stream",
          "name": "stdout",
          "text": [
            "              precision    recall  f1-score   support\n",
            "\n",
            "           0       0.99      0.90      0.95      5945\n",
            "           1       0.41      0.90      0.57       448\n",
            "\n",
            "    accuracy                           0.90      6393\n",
            "   macro avg       0.70      0.90      0.76      6393\n",
            "weighted avg       0.95      0.90      0.92      6393\n",
            "\n"
          ]
        }
      ]
    },
    {
      "cell_type": "markdown",
      "source": [
        "После применения к данным ADASYN macro avg вырасло на 18% по сравнению с тем же самым алгоритмом, но без ADASYN"
      ],
      "metadata": {
        "id": "pF6LIGlbpvuk"
      }
    },
    {
      "cell_type": "code",
      "source": [
        ""
      ],
      "metadata": {
        "id": "TjJhAYHyjXHe"
      },
      "execution_count": null,
      "outputs": []
    },
    {
      "cell_type": "markdown",
      "source": [
        "BernoulliNB без настройки параметров"
      ],
      "metadata": {
        "id": "7UAxEwGcnnFf"
      }
    },
    {
      "cell_type": "code",
      "source": [
        "tv_for_bernulli=TfidfVectorizer(stop_words=stopWords[:25],ngram_range=(1,2))\n",
        "tv_for_bernulli=tv_for_bernulli.fit(df_train['tweet'])"
      ],
      "metadata": {
        "colab": {
          "base_uri": "https://localhost:8080/"
        },
        "outputId": "f0241521-1e69-4efa-9857-228cf1c87cb2",
        "id": "aF1hhShQr-lP"
      },
      "execution_count": null,
      "outputs": [
        {
          "output_type": "stream",
          "name": "stderr",
          "text": [
            "/usr/local/lib/python3.7/dist-packages/sklearn/feature_extraction/text.py:401: UserWarning: Your stop_words may be inconsistent with your preprocessing. Tokenizing the stop words generated tokens ['ll', 're', 've'] not in stop_words.\n",
            "  % sorted(inconsistent)\n"
          ]
        }
      ]
    },
    {
      "cell_type": "code",
      "source": [
        "X_train_tf_idf_bern = tv_for_bernulli.transform(X_train)\n",
        "X_test_tf_idf_bern = tv_for_bernulli.transform(X_test)"
      ],
      "metadata": {
        "id": "TsJ1WQ8Vr-lQ"
      },
      "execution_count": null,
      "outputs": []
    },
    {
      "cell_type": "code",
      "source": [
        "ad=ADASYN()\n",
        "X_train_tf_idf_adasyn_bern,y_train_adasyn_bern=ad.fit_resample(X_train_tf_idf_bern,y_train)"
      ],
      "metadata": {
        "id": "j-IVkmiDr-lQ"
      },
      "execution_count": null,
      "outputs": []
    },
    {
      "cell_type": "code",
      "source": [
        "bnb=BernoulliNB()\n",
        "bnb=bnb.fit(X_train_tf_idf_adasyn_bern,y_train_adasyn_bern)"
      ],
      "metadata": {
        "id": "KkUuKAdhjYbL"
      },
      "execution_count": null,
      "outputs": []
    },
    {
      "cell_type": "code",
      "source": [
        "y_hat=bnb.predict(X_test_tf_idf_bern)\n",
        "print(classification_report(y_test,y_hat))"
      ],
      "metadata": {
        "colab": {
          "base_uri": "https://localhost:8080/"
        },
        "outputId": "a211a70d-e6b1-4ffb-c2dc-589d4e33d2c3",
        "id": "BuLiG_mRjYbL"
      },
      "execution_count": null,
      "outputs": [
        {
          "output_type": "stream",
          "name": "stdout",
          "text": [
            "              precision    recall  f1-score   support\n",
            "\n",
            "           0       0.96      1.00      0.98      5945\n",
            "           1       0.91      0.50      0.64       448\n",
            "\n",
            "    accuracy                           0.96      6393\n",
            "   macro avg       0.94      0.75      0.81      6393\n",
            "weighted avg       0.96      0.96      0.96      6393\n",
            "\n"
          ]
        }
      ]
    },
    {
      "cell_type": "markdown",
      "source": [
        "После применения к данным ADASYN macro avg упало на 2% по сравнению с тем же самым алгоритмом, но без ADASYN"
      ],
      "metadata": {
        "id": "D3jWBxZmqFiQ"
      }
    },
    {
      "cell_type": "code",
      "source": [
        ""
      ],
      "metadata": {
        "id": "ThACoIl4qFBO"
      },
      "execution_count": null,
      "outputs": []
    },
    {
      "cell_type": "code",
      "source": [
        ""
      ],
      "metadata": {
        "id": "wosqpNmGjj_k"
      },
      "execution_count": null,
      "outputs": []
    },
    {
      "cell_type": "markdown",
      "source": [
        "LogisticRegression без настройки параметров"
      ],
      "metadata": {
        "id": "BTPoY3ESqbnY"
      }
    },
    {
      "cell_type": "code",
      "source": [
        "clf=LogisticRegression()\n",
        "clf=clf.fit(X_train_tf_idf_adasyn,y_train_adasyn)"
      ],
      "metadata": {
        "id": "R0zZGUYVmena"
      },
      "execution_count": null,
      "outputs": []
    },
    {
      "cell_type": "code",
      "source": [
        "y_hat=clf.predict(X_test_tf_idf)\n",
        "print(classification_report(y_test,y_hat))"
      ],
      "metadata": {
        "colab": {
          "base_uri": "https://localhost:8080/"
        },
        "outputId": "5431992d-d194-4782-ec6f-4096f76dadfe",
        "id": "BA6lGWOLmena"
      },
      "execution_count": null,
      "outputs": [
        {
          "output_type": "stream",
          "name": "stdout",
          "text": [
            "              precision    recall  f1-score   support\n",
            "\n",
            "           0       0.98      0.96      0.97      5945\n",
            "           1       0.59      0.77      0.67       448\n",
            "\n",
            "    accuracy                           0.95      6393\n",
            "   macro avg       0.79      0.87      0.82      6393\n",
            "weighted avg       0.96      0.95      0.95      6393\n",
            "\n"
          ]
        }
      ]
    },
    {
      "cell_type": "markdown",
      "source": [
        "После применения к данным ADASYN macro avg вырасло на 12% по сравнению с тем же самым алгоритмом, но без ADASYN"
      ],
      "metadata": {
        "id": "MzeqofbFqTiq"
      }
    },
    {
      "cell_type": "code",
      "source": [
        ""
      ],
      "metadata": {
        "id": "SlJ6Wc0wlhNp"
      },
      "execution_count": null,
      "outputs": []
    },
    {
      "cell_type": "markdown",
      "source": [
        "SVM без настройки параметров"
      ],
      "metadata": {
        "id": "tJWDTeUjqomf"
      }
    },
    {
      "cell_type": "code",
      "source": [
        "clf=SVC(kernel='poly',degree=2)\n",
        "clf=clf.fit(X_train_tf_idf_adasyn,y_train_adasyn)"
      ],
      "metadata": {
        "id": "XfURrVcfnBxz"
      },
      "execution_count": null,
      "outputs": []
    },
    {
      "cell_type": "code",
      "source": [
        "y_hat=clf.predict(X_test_tf_idf)\n",
        "print(classification_report(y_test,y_hat))"
      ],
      "metadata": {
        "colab": {
          "base_uri": "https://localhost:8080/"
        },
        "outputId": "0d284eff-2a66-4add-9b6b-bb8baadcd899",
        "id": "6rOqlx-enBx0"
      },
      "execution_count": null,
      "outputs": [
        {
          "output_type": "stream",
          "name": "stdout",
          "text": [
            "              precision    recall  f1-score   support\n",
            "\n",
            "           0       0.96      1.00      0.98      5945\n",
            "           1       0.90      0.50      0.64       448\n",
            "\n",
            "    accuracy                           0.96      6393\n",
            "   macro avg       0.93      0.75      0.81      6393\n",
            "weighted avg       0.96      0.96      0.96      6393\n",
            "\n"
          ]
        }
      ]
    },
    {
      "cell_type": "markdown",
      "source": [
        "SVM после применения к данным показал хорошие резкльтаты, macro avg на 1% меньше чем у logistic regression"
      ],
      "metadata": {
        "id": "OuGlYOE3qtrt"
      }
    },
    {
      "cell_type": "code",
      "source": [
        ""
      ],
      "metadata": {
        "id": "lKi0VZberefP"
      },
      "execution_count": null,
      "outputs": []
    },
    {
      "cell_type": "markdown",
      "source": [
        "<p><h3>Вывод</h3></p>\n",
        "После применения к данным ADASYN результаты каждого алгоритма улучшились занчительно, за исключением Bernoulli"
      ],
      "metadata": {
        "id": "6aM1QvlYrdsn"
      }
    },
    {
      "cell_type": "code",
      "source": [
        ""
      ],
      "metadata": {
        "id": "XG5180nRm_jE"
      },
      "execution_count": null,
      "outputs": []
    },
    {
      "cell_type": "markdown",
      "source": [
        "Tomeklinks"
      ],
      "metadata": {
        "id": "Tbt54-MEjtSq"
      }
    },
    {
      "cell_type": "code",
      "source": [
        "from imblearn.under_sampling import TomekLinks"
      ],
      "metadata": {
        "id": "ZttGU3vTjvCb"
      },
      "execution_count": null,
      "outputs": []
    },
    {
      "cell_type": "code",
      "source": [
        "tv=TfidfVectorizer(stop_words=stopWords[:25])\n",
        "tv=tv.fit(df_train['tweet'])"
      ],
      "metadata": {
        "colab": {
          "base_uri": "https://localhost:8080/"
        },
        "outputId": "4909a79e-3eff-4ad7-b801-15fbb295db98",
        "id": "2ZviStwJkGL0"
      },
      "execution_count": null,
      "outputs": [
        {
          "output_type": "stream",
          "name": "stderr",
          "text": [
            "/usr/local/lib/python3.7/dist-packages/sklearn/feature_extraction/text.py:401: UserWarning: Your stop_words may be inconsistent with your preprocessing. Tokenizing the stop words generated tokens ['ll', 're', 've'] not in stop_words.\n",
            "  % sorted(inconsistent)\n"
          ]
        }
      ]
    },
    {
      "cell_type": "code",
      "source": [
        "X_train_tf_idf = tv.transform(X_train)\n",
        "X_test_tf_idf = tv.transform(X_test)"
      ],
      "metadata": {
        "id": "R5_VaShOkGL1"
      },
      "execution_count": null,
      "outputs": []
    },
    {
      "cell_type": "code",
      "source": [
        "tl=TomekLinks(sampling_strategy=\"all\")"
      ],
      "metadata": {
        "id": "D7tNBNQZR0IH"
      },
      "execution_count": null,
      "outputs": []
    },
    {
      "cell_type": "code",
      "source": [
        "sum(y_train),len(y_train)- sum(y_train)"
      ],
      "metadata": {
        "colab": {
          "base_uri": "https://localhost:8080/"
        },
        "outputId": "154fef86-2296-4ad8-b05b-7f08ea945514",
        "id": "gpUo2jclSSnu"
      },
      "execution_count": null,
      "outputs": [
        {
          "output_type": "execute_result",
          "data": {
            "text/plain": [
              "(1794, 23775)"
            ]
          },
          "metadata": {},
          "execution_count": 67
        }
      ]
    },
    {
      "cell_type": "code",
      "source": [
        "X_train_tf_idf_augm_tl,y_train_augm_tl = tl.fit_resample(X_train_tf_idf,y_train)"
      ],
      "metadata": {
        "id": "bs60EuhaSSnv"
      },
      "execution_count": null,
      "outputs": []
    },
    {
      "cell_type": "code",
      "source": [
        "sum(y_train_augm_tl),len(y_train_augm_tl)- sum(y_train_augm_tl)"
      ],
      "metadata": {
        "colab": {
          "base_uri": "https://localhost:8080/"
        },
        "outputId": "701d4e14-a4d5-4fa1-9b98-5924977e64b6",
        "id": "0yU4fG7DSSnv"
      },
      "execution_count": null,
      "outputs": [
        {
          "output_type": "execute_result",
          "data": {
            "text/plain": [
              "(1776, 23757)"
            ]
          },
          "metadata": {},
          "execution_count": 71
        }
      ]
    },
    {
      "cell_type": "code",
      "source": [
        ""
      ],
      "metadata": {
        "id": "aobVRzvXkO9p"
      },
      "execution_count": null,
      "outputs": []
    },
    {
      "cell_type": "markdown",
      "source": [
        "MultinomialNB без настройки параметров"
      ],
      "metadata": {
        "id": "jsl5J0ENrRm8"
      }
    },
    {
      "cell_type": "code",
      "source": [
        "mnb=MultinomialNB()\n",
        "mnb=mnb.fit(X_train_tf_idf_augm_tl,y_train_augm_tl)"
      ],
      "metadata": {
        "id": "8zxzMm4ekVNa"
      },
      "execution_count": null,
      "outputs": []
    },
    {
      "cell_type": "code",
      "source": [
        "y_hat=mnb.predict(X_test_tf_idf)\n",
        "print(classification_report(y_test,y_hat))"
      ],
      "metadata": {
        "colab": {
          "base_uri": "https://localhost:8080/"
        },
        "outputId": "25bb0deb-34d9-400b-c9fd-113d8abc8ae7",
        "id": "_FRgK-H_kVNa"
      },
      "execution_count": null,
      "outputs": [
        {
          "output_type": "stream",
          "name": "stdout",
          "text": [
            "              precision    recall  f1-score   support\n",
            "\n",
            "           0       0.94      1.00      0.97      5945\n",
            "           1       1.00      0.10      0.18       448\n",
            "\n",
            "    accuracy                           0.94      6393\n",
            "   macro avg       0.97      0.55      0.57      6393\n",
            "weighted avg       0.94      0.94      0.91      6393\n",
            "\n"
          ]
        }
      ]
    },
    {
      "cell_type": "code",
      "source": [
        ""
      ],
      "metadata": {
        "id": "u5507evIkWC8"
      },
      "execution_count": null,
      "outputs": []
    },
    {
      "cell_type": "markdown",
      "source": [
        "ComplementNB без настройки параметров"
      ],
      "metadata": {
        "id": "-gtqutmWrY82"
      }
    },
    {
      "cell_type": "code",
      "source": [
        "cnb=ComplementNB()\n",
        "cnb=cnb.fit(X_train_tf_idf_augm_tl,y_train_augm_tl)"
      ],
      "metadata": {
        "id": "bnFtd0ZNkVNb"
      },
      "execution_count": null,
      "outputs": []
    },
    {
      "cell_type": "code",
      "source": [
        "y_hat=cnb.predict(X_test_tf_idf)\n",
        "print(classification_report(y_test,y_hat))"
      ],
      "metadata": {
        "colab": {
          "base_uri": "https://localhost:8080/"
        },
        "outputId": "f371daed-feb5-452c-ddc1-73fa2704b958",
        "id": "lZJHqttAkVNb"
      },
      "execution_count": null,
      "outputs": [
        {
          "output_type": "stream",
          "name": "stdout",
          "text": [
            "              precision    recall  f1-score   support\n",
            "\n",
            "           0       0.96      0.96      0.96      5945\n",
            "           1       0.49      0.45      0.47       448\n",
            "\n",
            "    accuracy                           0.93      6393\n",
            "   macro avg       0.72      0.71      0.71      6393\n",
            "weighted avg       0.93      0.93      0.93      6393\n",
            "\n"
          ]
        }
      ]
    },
    {
      "cell_type": "code",
      "source": [
        ""
      ],
      "metadata": {
        "id": "sdv0oTtNkWb2"
      },
      "execution_count": null,
      "outputs": []
    },
    {
      "cell_type": "markdown",
      "source": [
        "BernoulliNB без настройки параметров"
      ],
      "metadata": {
        "id": "i3ep9Hb_rbhB"
      }
    },
    {
      "cell_type": "code",
      "source": [
        "bnb=BernoulliNB()\n",
        "bnb=bnb.fit(X_train_tf_idf_augm_tl,y_train_augm_tl)"
      ],
      "metadata": {
        "id": "X6swkGu2kVNc"
      },
      "execution_count": null,
      "outputs": []
    },
    {
      "cell_type": "code",
      "source": [
        "y_hat=bnb.predict(X_test_tf_idf)\n",
        "print(classification_report(y_test,y_hat))"
      ],
      "metadata": {
        "colab": {
          "base_uri": "https://localhost:8080/"
        },
        "outputId": "2ac2ad47-8bb3-48f2-e9bc-03ad2655e076",
        "id": "FvjbkzkmkVNc"
      },
      "execution_count": null,
      "outputs": [
        {
          "output_type": "stream",
          "name": "stdout",
          "text": [
            "              precision    recall  f1-score   support\n",
            "\n",
            "           0       0.94      1.00      0.97      5945\n",
            "           1       0.97      0.13      0.22       448\n",
            "\n",
            "    accuracy                           0.94      6393\n",
            "   macro avg       0.95      0.56      0.60      6393\n",
            "weighted avg       0.94      0.94      0.92      6393\n",
            "\n"
          ]
        }
      ]
    },
    {
      "cell_type": "code",
      "source": [
        ""
      ],
      "metadata": {
        "id": "aFckPa7Jsxr4"
      },
      "execution_count": null,
      "outputs": []
    },
    {
      "cell_type": "markdown",
      "source": [
        "LogisticRegression без настройки параметров"
      ],
      "metadata": {
        "id": "k74iO0Jvsx8r"
      }
    },
    {
      "cell_type": "code",
      "source": [
        "clf=LogisticRegression()\n",
        "clf=clf.fit(X_train_tf_idf_augm_tl,y_train_augm_tl)"
      ],
      "metadata": {
        "id": "1xG3Yw-nsx8r"
      },
      "execution_count": null,
      "outputs": []
    },
    {
      "cell_type": "code",
      "source": [
        "y_hat=clf.predict(X_test_tf_idf)\n",
        "print(classification_report(y_test,y_hat))"
      ],
      "metadata": {
        "colab": {
          "base_uri": "https://localhost:8080/"
        },
        "outputId": "d5b02dc1-da5b-414b-afe0-f29fe50196fb",
        "id": "6lVKvge-sx8s"
      },
      "execution_count": null,
      "outputs": [
        {
          "output_type": "stream",
          "name": "stdout",
          "text": [
            "              precision    recall  f1-score   support\n",
            "\n",
            "           0       0.95      1.00      0.97      5945\n",
            "           1       0.94      0.27      0.42       448\n",
            "\n",
            "    accuracy                           0.95      6393\n",
            "   macro avg       0.94      0.64      0.70      6393\n",
            "weighted avg       0.95      0.95      0.93      6393\n",
            "\n"
          ]
        }
      ]
    },
    {
      "cell_type": "markdown",
      "source": [
        "После применения алгорима TomekLinks результаты алгоритмов в средней упали или остались на таком же месте, но ComplementNB по macro avg вырос на 13%"
      ],
      "metadata": {
        "id": "le5JfF7Gs7oH"
      }
    },
    {
      "cell_type": "code",
      "source": [
        ""
      ],
      "metadata": {
        "id": "RaFFYuNAtrvI"
      },
      "execution_count": null,
      "outputs": []
    },
    {
      "cell_type": "markdown",
      "source": [
        "Рассмотрим разные способы кодирования данных, в начале работы все алгоритмы работали на tfidf кодировке"
      ],
      "metadata": {
        "id": "5XGnJH2Xt4Fp"
      }
    },
    {
      "cell_type": "markdown",
      "source": [
        "Кодирование с помощью CountVectorizer"
      ],
      "metadata": {
        "id": "Sa72sYz5yFET"
      }
    },
    {
      "cell_type": "code",
      "source": [
        "from sklearn.feature_extraction.text import CountVectorizer"
      ],
      "metadata": {
        "id": "CwIdAv_iuHz9"
      },
      "execution_count": 17,
      "outputs": []
    },
    {
      "cell_type": "code",
      "source": [
        ""
      ],
      "metadata": {
        "id": "sOGFd4riyKFt"
      },
      "execution_count": null,
      "outputs": []
    },
    {
      "cell_type": "markdown",
      "source": [
        "Решение с помощью MultinomialNB с настройкой параметров"
      ],
      "metadata": {
        "id": "-dajgOXqyXbe"
      }
    },
    {
      "cell_type": "code",
      "source": [
        "from sklearn.model_selection import GridSearchCV\n",
        "from sklearn.pipeline import make_pipeline\n",
        "from sklearn.pipeline import Pipeline"
      ],
      "metadata": {
        "id": "ybnTve8NyXbe"
      },
      "execution_count": 15,
      "outputs": []
    },
    {
      "cell_type": "code",
      "source": [
        "nb_pipe=Pipeline(steps=[(\"cve\",CountVectorizer(stop_words=stopWords[:25])),(\"mnb\",MultinomialNB())])\n",
        "params={\n",
        "    \"cve__ngram_range\":[(1,1),(1,2),(1,3)],\n",
        "    \"mnb__alpha\":[1,2,3]\n",
        "}\n",
        "gs_nmb=GridSearchCV(nb_pipe,params,cv=5,n_jobs=-1)"
      ],
      "metadata": {
        "id": "uPA3gwUkyXbe"
      },
      "execution_count": null,
      "outputs": []
    },
    {
      "cell_type": "code",
      "source": [
        "gs_nmb=gs_nmb.fit(X_train,y_train)"
      ],
      "metadata": {
        "colab": {
          "base_uri": "https://localhost:8080/"
        },
        "outputId": "a13bfc7c-f3cd-49b2-83d0-670d7301eb64",
        "id": "2D5xsMMKyXbf"
      },
      "execution_count": null,
      "outputs": [
        {
          "output_type": "stream",
          "name": "stderr",
          "text": [
            "/usr/local/lib/python3.7/dist-packages/sklearn/feature_extraction/text.py:401: UserWarning: Your stop_words may be inconsistent with your preprocessing. Tokenizing the stop words generated tokens ['ll', 're', 've'] not in stop_words.\n",
            "  % sorted(inconsistent)\n"
          ]
        }
      ]
    },
    {
      "cell_type": "code",
      "source": [
        "gs_nmb.best_params_"
      ],
      "metadata": {
        "colab": {
          "base_uri": "https://localhost:8080/"
        },
        "outputId": "963af027-b160-49ef-b953-7ae8f1d5df35",
        "id": "ghbSkyz4yXbf"
      },
      "execution_count": null,
      "outputs": [
        {
          "output_type": "execute_result",
          "data": {
            "text/plain": [
              "{'cve__ngram_range': (1, 3), 'mnb__alpha': 1}"
            ]
          },
          "metadata": {},
          "execution_count": 58
        }
      ]
    },
    {
      "cell_type": "code",
      "source": [
        "y_hat=gs_nmb.predict(X_test)\n",
        "print(classification_report(y_test,y_hat))"
      ],
      "metadata": {
        "colab": {
          "base_uri": "https://localhost:8080/"
        },
        "outputId": "159c8915-9045-4c31-8f8d-daa5accdd071",
        "id": "G7XPzDToyXbg"
      },
      "execution_count": null,
      "outputs": [
        {
          "output_type": "stream",
          "name": "stdout",
          "text": [
            "              precision    recall  f1-score   support\n",
            "\n",
            "           0       0.96      1.00      0.98      5945\n",
            "           1       0.99      0.40      0.57       448\n",
            "\n",
            "    accuracy                           0.96      6393\n",
            "   macro avg       0.98      0.70      0.77      6393\n",
            "weighted avg       0.96      0.96      0.95      6393\n",
            "\n"
          ]
        }
      ]
    },
    {
      "cell_type": "markdown",
      "source": [
        "По сравнению с MultinomialNB натретированном на tfidf, алгоритм натренированный на CountVectorizer показал результаты лучше. macro avg выше на 19%"
      ],
      "metadata": {
        "id": "TjPBtHdjzDJJ"
      }
    },
    {
      "cell_type": "code",
      "source": [
        ""
      ],
      "metadata": {
        "id": "08yyhJAP0S4z"
      },
      "execution_count": null,
      "outputs": []
    },
    {
      "cell_type": "markdown",
      "source": [
        "Решение с помощью ComplementNB с настройкой параметров"
      ],
      "metadata": {
        "id": "Tszdgk_yyXbg"
      }
    },
    {
      "cell_type": "code",
      "source": [
        "cnb_pipe=Pipeline(steps=[('cve',CountVectorizer(stop_words=stopWords[:25])),('cnb',ComplementNB())])\n",
        "params={\n",
        "    \"cve__ngram_range\":[(1,1),(1,2),(1,3)],\n",
        "    \"cnb__alpha\":np.linspace(0,1,2,3,4)\n",
        "}\n",
        "gs_cmb=GridSearchCV(cnb_pipe,params,cv=5,n_jobs=-1)"
      ],
      "metadata": {
        "id": "LxRJYobFyXbg"
      },
      "execution_count": null,
      "outputs": []
    },
    {
      "cell_type": "code",
      "source": [
        "gs_cmb=gs_cmb.fit(X_train,y_train)"
      ],
      "metadata": {
        "colab": {
          "base_uri": "https://localhost:8080/"
        },
        "outputId": "eae072ed-646c-491b-fb83-e8f51c13f182",
        "id": "F_cm5P5jyXbh"
      },
      "execution_count": null,
      "outputs": [
        {
          "output_type": "stream",
          "name": "stderr",
          "text": [
            "/usr/local/lib/python3.7/dist-packages/sklearn/model_selection/_validation.py:372: FitFailedWarning: \n",
            "15 fits failed out of a total of 30.\n",
            "The score on these train-test partitions for these parameters will be set to nan.\n",
            "If these failures are not expected, you can try to debug them by setting error_score='raise'.\n",
            "\n",
            "Below are more details about the failures:\n",
            "--------------------------------------------------------------------------------\n",
            "15 fits failed with the following error:\n",
            "Traceback (most recent call last):\n",
            "  File \"/usr/local/lib/python3.7/dist-packages/sklearn/model_selection/_validation.py\", line 680, in _fit_and_score\n",
            "    estimator.fit(X_train, y_train, **fit_params)\n",
            "  File \"/usr/local/lib/python3.7/dist-packages/sklearn/pipeline.py\", line 394, in fit\n",
            "    self._final_estimator.fit(Xt, y, **fit_params_last_step)\n",
            "  File \"/usr/local/lib/python3.7/dist-packages/sklearn/naive_bayes.py\", line 691, in fit\n",
            "    alpha = self._check_alpha()\n",
            "  File \"/usr/local/lib/python3.7/dist-packages/sklearn/naive_bayes.py\", line 552, in _check_alpha\n",
            "    \"alpha should be a scalar or a numpy array with shape [n_features]\"\n",
            "ValueError: alpha should be a scalar or a numpy array with shape [n_features]\n",
            "\n",
            "  warnings.warn(some_fits_failed_message, FitFailedWarning)\n",
            "/usr/local/lib/python3.7/dist-packages/sklearn/model_selection/_search.py:972: UserWarning: One or more of the test scores are non-finite: [       nan        nan        nan 0.94845317 0.95506275 0.95545384]\n",
            "  category=UserWarning,\n",
            "/usr/local/lib/python3.7/dist-packages/sklearn/feature_extraction/text.py:401: UserWarning: Your stop_words may be inconsistent with your preprocessing. Tokenizing the stop words generated tokens ['ll', 're', 've'] not in stop_words.\n",
            "  % sorted(inconsistent)\n"
          ]
        }
      ]
    },
    {
      "cell_type": "code",
      "source": [
        "gs_nmb.best_params_"
      ],
      "metadata": {
        "colab": {
          "base_uri": "https://localhost:8080/"
        },
        "outputId": "961e4e8a-1adb-4864-c344-e4083d62a0aa",
        "id": "gXLqqK3tyXbh"
      },
      "execution_count": null,
      "outputs": [
        {
          "output_type": "execute_result",
          "data": {
            "text/plain": [
              "{'cve__ngram_range': (1, 3), 'mnb__alpha': 1}"
            ]
          },
          "metadata": {},
          "execution_count": 62
        }
      ]
    },
    {
      "cell_type": "code",
      "source": [
        "y_hat=gs_nmb.predict(X_test)\n",
        "print(classification_report(y_test,y_hat))"
      ],
      "metadata": {
        "colab": {
          "base_uri": "https://localhost:8080/"
        },
        "outputId": "59d728a0-6666-425b-c2a8-905dee92a260",
        "id": "tu0AsCLayXbh"
      },
      "execution_count": null,
      "outputs": [
        {
          "output_type": "stream",
          "name": "stdout",
          "text": [
            "              precision    recall  f1-score   support\n",
            "\n",
            "           0       0.96      1.00      0.98      5945\n",
            "           1       0.99      0.40      0.57       448\n",
            "\n",
            "    accuracy                           0.96      6393\n",
            "   macro avg       0.98      0.70      0.77      6393\n",
            "weighted avg       0.96      0.96      0.95      6393\n",
            "\n"
          ]
        }
      ]
    },
    {
      "cell_type": "markdown",
      "source": [
        "По сравнению с ComplementNB натретированном на tfidf, алгоритм натренированный на CountVectorizer показал результаты лучше. macro avg выше на 19%"
      ],
      "metadata": {
        "id": "tZoNbGDL0Lz3"
      }
    },
    {
      "cell_type": "code",
      "source": [
        ""
      ],
      "metadata": {
        "id": "98AOdr810Ply"
      },
      "execution_count": null,
      "outputs": []
    },
    {
      "cell_type": "markdown",
      "source": [
        "Решение с помощью BernoulliNB с настройкой параметров"
      ],
      "metadata": {
        "id": "PaujSThD0UiN"
      }
    },
    {
      "cell_type": "code",
      "source": [
        "nb_pipe=Pipeline(steps=[(\"cve\",CountVectorizer(stop_words=stopWords[:25])),(\"bnb\",BernoulliNB())])\n",
        "params={\n",
        "    \"cve__ngram_range\":[(1,1),(1,2),(1,3)],\n",
        "    \"bnb__alpha\":[0,1,2,3,4]\n",
        "}\n",
        "gs_bmb=GridSearchCV(nb_pipe,params,cv=5,n_jobs=-1)"
      ],
      "metadata": {
        "id": "GzqGpBJqyXbi"
      },
      "execution_count": null,
      "outputs": []
    },
    {
      "cell_type": "code",
      "source": [
        "gs_bmb=gs_bmb.fit(X_train,y_train)"
      ],
      "metadata": {
        "colab": {
          "base_uri": "https://localhost:8080/"
        },
        "outputId": "662b8ca9-1671-49e0-9415-214eefb1e00e",
        "id": "i6A_33GTyXbi"
      },
      "execution_count": null,
      "outputs": [
        {
          "output_type": "stream",
          "name": "stderr",
          "text": [
            "/usr/local/lib/python3.7/dist-packages/sklearn/feature_extraction/text.py:401: UserWarning: Your stop_words may be inconsistent with your preprocessing. Tokenizing the stop words generated tokens ['ll', 're', 've'] not in stop_words.\n",
            "  % sorted(inconsistent)\n",
            "/usr/local/lib/python3.7/dist-packages/sklearn/naive_bayes.py:557: UserWarning: alpha too small will result in numeric errors, setting alpha = 1.0e-10\n",
            "  % _ALPHA_MIN\n"
          ]
        }
      ]
    },
    {
      "cell_type": "code",
      "source": [
        "gs_bmb.best_params_"
      ],
      "metadata": {
        "colab": {
          "base_uri": "https://localhost:8080/"
        },
        "outputId": "0ed50dca-8553-47e2-89c5-84fde408ce27",
        "id": "ed1W235CyXbi"
      },
      "execution_count": null,
      "outputs": [
        {
          "output_type": "execute_result",
          "data": {
            "text/plain": [
              "{'bnb__alpha': 0, 'cve__ngram_range': (1, 2)}"
            ]
          },
          "metadata": {},
          "execution_count": 66
        }
      ]
    },
    {
      "cell_type": "code",
      "source": [
        "y_hat=gs_bmb.predict(X_test)\n",
        "print(classification_report(y_test,y_hat))"
      ],
      "metadata": {
        "colab": {
          "base_uri": "https://localhost:8080/"
        },
        "outputId": "48bf7a84-2290-4522-fc2e-3ce27a2eaffd",
        "id": "xcEksiOJyXbi"
      },
      "execution_count": null,
      "outputs": [
        {
          "output_type": "stream",
          "name": "stdout",
          "text": [
            "              precision    recall  f1-score   support\n",
            "\n",
            "           0       0.97      1.00      0.98      5945\n",
            "           1       0.89      0.55      0.68       448\n",
            "\n",
            "    accuracy                           0.96      6393\n",
            "   macro avg       0.93      0.77      0.83      6393\n",
            "weighted avg       0.96      0.96      0.96      6393\n",
            "\n"
          ]
        }
      ]
    },
    {
      "cell_type": "markdown",
      "source": [
        "По сравнению с BernoulliNB натретированном на tfidf, алгоритм натренированный на CountVectorizer показал точно такие же"
      ],
      "metadata": {
        "id": "l9qpV_EO0xDF"
      }
    },
    {
      "cell_type": "code",
      "source": [
        ""
      ],
      "metadata": {
        "id": "75d0mkyS4FOV"
      },
      "execution_count": null,
      "outputs": []
    },
    {
      "cell_type": "code",
      "source": [
        ""
      ],
      "metadata": {
        "id": "OZ7sEnQi4FRz"
      },
      "execution_count": null,
      "outputs": []
    },
    {
      "cell_type": "markdown",
      "source": [
        "Logistic regression"
      ],
      "metadata": {
        "id": "x6LZC7a-4F2I"
      }
    },
    {
      "cell_type": "code",
      "source": [
        "nb_pipe=Pipeline(steps=[(\"cve\",CountVectorizer(stop_words=stopWords[:25])),(\"logreg\",LogisticRegression())])\n",
        "params={\n",
        "    \"cve__ngram_range\":[(1,1),(1,2),(1,3)],\n",
        "}\n",
        "gs_bmb=GridSearchCV(nb_pipe,params,cv=5,n_jobs=-1)"
      ],
      "metadata": {
        "id": "WP2TP75X4Izg"
      },
      "execution_count": null,
      "outputs": []
    },
    {
      "cell_type": "code",
      "source": [
        "gs_bmb=gs_bmb.fit(X_train,y_train)"
      ],
      "metadata": {
        "colab": {
          "base_uri": "https://localhost:8080/"
        },
        "outputId": "e6d16113-e2af-46e7-b9d7-b1ec15538e52",
        "id": "JtPfW0H24Izg"
      },
      "execution_count": null,
      "outputs": [
        {
          "output_type": "stream",
          "name": "stderr",
          "text": [
            "/usr/local/lib/python3.7/dist-packages/sklearn/feature_extraction/text.py:401: UserWarning: Your stop_words may be inconsistent with your preprocessing. Tokenizing the stop words generated tokens ['ll', 're', 've'] not in stop_words.\n",
            "  % sorted(inconsistent)\n",
            "/usr/local/lib/python3.7/dist-packages/sklearn/linear_model/_logistic.py:818: ConvergenceWarning: lbfgs failed to converge (status=1):\n",
            "STOP: TOTAL NO. of ITERATIONS REACHED LIMIT.\n",
            "\n",
            "Increase the number of iterations (max_iter) or scale the data as shown in:\n",
            "    https://scikit-learn.org/stable/modules/preprocessing.html\n",
            "Please also refer to the documentation for alternative solver options:\n",
            "    https://scikit-learn.org/stable/modules/linear_model.html#logistic-regression\n",
            "  extra_warning_msg=_LOGISTIC_SOLVER_CONVERGENCE_MSG,\n"
          ]
        }
      ]
    },
    {
      "cell_type": "code",
      "source": [
        "gs_bmb.best_params_"
      ],
      "metadata": {
        "colab": {
          "base_uri": "https://localhost:8080/"
        },
        "outputId": "5e5890b9-d7df-4d94-bd55-1c88f90358ef",
        "id": "VUrhA02Y4Izh"
      },
      "execution_count": null,
      "outputs": [
        {
          "output_type": "execute_result",
          "data": {
            "text/plain": [
              "{'cve__ngram_range': (1, 2)}"
            ]
          },
          "metadata": {},
          "execution_count": 90
        }
      ]
    },
    {
      "cell_type": "code",
      "source": [
        "y_hat=gs_bmb.predict(X_test)\n",
        "print(classification_report(y_test,y_hat))"
      ],
      "metadata": {
        "colab": {
          "base_uri": "https://localhost:8080/"
        },
        "outputId": "9da6b634-d308-446d-99d2-585f71e4351a",
        "id": "wqZvf5hV4Izh"
      },
      "execution_count": null,
      "outputs": [
        {
          "output_type": "stream",
          "name": "stdout",
          "text": [
            "              precision    recall  f1-score   support\n",
            "\n",
            "           0       0.97      1.00      0.98      5945\n",
            "           1       0.90      0.52      0.66       448\n",
            "\n",
            "    accuracy                           0.96      6393\n",
            "   macro avg       0.93      0.76      0.82      6393\n",
            "weighted avg       0.96      0.96      0.96      6393\n",
            "\n"
          ]
        }
      ]
    },
    {
      "cell_type": "markdown",
      "source": [
        "На логичскю регрессию тип кодирования данных не повлиял"
      ],
      "metadata": {
        "id": "QU7EzmJS4jHc"
      }
    },
    {
      "cell_type": "markdown",
      "source": [
        "<p><h3>Вывод</h3></p>\n",
        "После кодирования методом CountVectorizer результаты алгоритмов или значительно улучшились или остальись точно такими же"
      ],
      "metadata": {
        "id": "HVGQS-As0-ky"
      }
    },
    {
      "cell_type": "code",
      "source": [
        ""
      ],
      "metadata": {
        "id": "WSkTZ_nC1cK7"
      },
      "execution_count": null,
      "outputs": []
    },
    {
      "cell_type": "code",
      "source": [
        ""
      ],
      "metadata": {
        "id": "LVKG7l2_1cTM"
      },
      "execution_count": null,
      "outputs": []
    },
    {
      "cell_type": "markdown",
      "source": [
        "Кодирование методом bag of words"
      ],
      "metadata": {
        "id": "4ylFaZKg1cl5"
      }
    },
    {
      "cell_type": "code",
      "source": [
        "nb_pipe=Pipeline(steps=[(\"cve\",CountVectorizer(stop_words=stopWords[:25],binary=True)),(\"mnb\",MultinomialNB())])\n",
        "params={\n",
        "    \"cve__ngram_range\":[(1,1),(1,2),(1,3)],\n",
        "    \"mnb__alpha\":[1,2,3]\n",
        "}\n",
        "gs_nmb=GridSearchCV(nb_pipe,params,cv=5,n_jobs=-1)"
      ],
      "metadata": {
        "id": "OaUzyLuT1rwv"
      },
      "execution_count": null,
      "outputs": []
    },
    {
      "cell_type": "code",
      "source": [
        "gs_nmb=gs_nmb.fit(X_train,y_train)"
      ],
      "metadata": {
        "colab": {
          "base_uri": "https://localhost:8080/"
        },
        "outputId": "07c92df2-fe71-4a73-96fb-c99f2b92c38a",
        "id": "1kuvySjJ1rwv"
      },
      "execution_count": null,
      "outputs": [
        {
          "output_type": "stream",
          "name": "stderr",
          "text": [
            "/usr/local/lib/python3.7/dist-packages/sklearn/feature_extraction/text.py:401: UserWarning: Your stop_words may be inconsistent with your preprocessing. Tokenizing the stop words generated tokens ['ll', 're', 've'] not in stop_words.\n",
            "  % sorted(inconsistent)\n"
          ]
        }
      ]
    },
    {
      "cell_type": "code",
      "source": [
        "gs_nmb.best_params_"
      ],
      "metadata": {
        "colab": {
          "base_uri": "https://localhost:8080/"
        },
        "outputId": "f3f38297-7cac-484a-d03c-77253f7a046a",
        "id": "yjjhkp4m1rww"
      },
      "execution_count": null,
      "outputs": [
        {
          "output_type": "execute_result",
          "data": {
            "text/plain": [
              "{'cve__ngram_range': (1, 3), 'mnb__alpha': 1}"
            ]
          },
          "metadata": {},
          "execution_count": 86
        }
      ]
    },
    {
      "cell_type": "code",
      "source": [
        "y_hat=gs_nmb.predict(X_test)\n",
        "print(classification_report(y_test,y_hat))"
      ],
      "metadata": {
        "colab": {
          "base_uri": "https://localhost:8080/"
        },
        "outputId": "bb4c8973-188a-489f-dfc0-37a0a08f5235",
        "id": "uusTSheV1rww"
      },
      "execution_count": null,
      "outputs": [
        {
          "output_type": "stream",
          "name": "stdout",
          "text": [
            "              precision    recall  f1-score   support\n",
            "\n",
            "           0       0.96      1.00      0.98      5945\n",
            "           1       0.99      0.40      0.57       448\n",
            "\n",
            "    accuracy                           0.96      6393\n",
            "   macro avg       0.98      0.70      0.77      6393\n",
            "weighted avg       0.96      0.96      0.95      6393\n",
            "\n"
          ]
        }
      ]
    },
    {
      "cell_type": "markdown",
      "source": [
        "По сравнению с MultinomialNB натретированном на tfidf, алгоритм натренированный на bag of words показал результаты лучше. macro avg выше на 19%"
      ],
      "metadata": {
        "id": "l3J-f35B1rww"
      }
    },
    {
      "cell_type": "code",
      "source": [
        ""
      ],
      "metadata": {
        "id": "BHnc0qf11rww"
      },
      "execution_count": null,
      "outputs": []
    },
    {
      "cell_type": "markdown",
      "source": [
        "Решение с помощью ComplementNB с настройкой параметров"
      ],
      "metadata": {
        "id": "gAbf_rs11rwx"
      }
    },
    {
      "cell_type": "code",
      "source": [
        "cnb_pipe=Pipeline(steps=[('cve',CountVectorizer(stop_words=stopWords[:25],binary=True)),('cnb',ComplementNB())])\n",
        "params={\n",
        "    \"cve__ngram_range\":[(1,1),(1,2),(1,3)],\n",
        "    \"cnb__alpha\":np.linspace(0,1,2,3,4)\n",
        "}\n",
        "gs_cmb=GridSearchCV(cnb_pipe,params,cv=5,n_jobs=-1)"
      ],
      "metadata": {
        "id": "m7mekFK21rwx"
      },
      "execution_count": null,
      "outputs": []
    },
    {
      "cell_type": "code",
      "source": [
        "gs_cmb=gs_cmb.fit(X_train,y_train)"
      ],
      "metadata": {
        "colab": {
          "base_uri": "https://localhost:8080/"
        },
        "outputId": "1bf63530-b26d-45eb-d382-b5eedc5182e8",
        "id": "QgONnt6a1rwx"
      },
      "execution_count": null,
      "outputs": [
        {
          "output_type": "stream",
          "name": "stderr",
          "text": [
            "/usr/local/lib/python3.7/dist-packages/sklearn/model_selection/_validation.py:372: FitFailedWarning: \n",
            "15 fits failed out of a total of 30.\n",
            "The score on these train-test partitions for these parameters will be set to nan.\n",
            "If these failures are not expected, you can try to debug them by setting error_score='raise'.\n",
            "\n",
            "Below are more details about the failures:\n",
            "--------------------------------------------------------------------------------\n",
            "15 fits failed with the following error:\n",
            "Traceback (most recent call last):\n",
            "  File \"/usr/local/lib/python3.7/dist-packages/sklearn/model_selection/_validation.py\", line 680, in _fit_and_score\n",
            "    estimator.fit(X_train, y_train, **fit_params)\n",
            "  File \"/usr/local/lib/python3.7/dist-packages/sklearn/pipeline.py\", line 394, in fit\n",
            "    self._final_estimator.fit(Xt, y, **fit_params_last_step)\n",
            "  File \"/usr/local/lib/python3.7/dist-packages/sklearn/naive_bayes.py\", line 691, in fit\n",
            "    alpha = self._check_alpha()\n",
            "  File \"/usr/local/lib/python3.7/dist-packages/sklearn/naive_bayes.py\", line 552, in _check_alpha\n",
            "    \"alpha should be a scalar or a numpy array with shape [n_features]\"\n",
            "ValueError: alpha should be a scalar or a numpy array with shape [n_features]\n",
            "\n",
            "  warnings.warn(some_fits_failed_message, FitFailedWarning)\n",
            "/usr/local/lib/python3.7/dist-packages/sklearn/model_selection/_search.py:972: UserWarning: One or more of the test scores are non-finite: [       nan        nan        nan 0.94927445 0.95576677 0.95592317]\n",
            "  category=UserWarning,\n",
            "/usr/local/lib/python3.7/dist-packages/sklearn/feature_extraction/text.py:401: UserWarning: Your stop_words may be inconsistent with your preprocessing. Tokenizing the stop words generated tokens ['ll', 're', 've'] not in stop_words.\n",
            "  % sorted(inconsistent)\n"
          ]
        }
      ]
    },
    {
      "cell_type": "code",
      "source": [
        "gs_nmb.best_params_"
      ],
      "metadata": {
        "colab": {
          "base_uri": "https://localhost:8080/"
        },
        "outputId": "e96c350b-5df5-49b8-d3cd-4e1189b7c1e5",
        "id": "7Ep8Ugub1rwx"
      },
      "execution_count": null,
      "outputs": [
        {
          "output_type": "execute_result",
          "data": {
            "text/plain": [
              "{'cve__ngram_range': (1, 3), 'mnb__alpha': 1}"
            ]
          },
          "metadata": {},
          "execution_count": 74
        }
      ]
    },
    {
      "cell_type": "code",
      "source": [
        "y_hat=gs_nmb.predict(X_test)\n",
        "print(classification_report(y_test,y_hat))"
      ],
      "metadata": {
        "colab": {
          "base_uri": "https://localhost:8080/"
        },
        "outputId": "4f7a1dec-acfd-452c-f308-b077084a5e06",
        "id": "ifhkGYZu1rwx"
      },
      "execution_count": null,
      "outputs": [
        {
          "output_type": "stream",
          "name": "stdout",
          "text": [
            "              precision    recall  f1-score   support\n",
            "\n",
            "           0       0.96      1.00      0.98      5945\n",
            "           1       0.99      0.40      0.57       448\n",
            "\n",
            "    accuracy                           0.96      6393\n",
            "   macro avg       0.98      0.70      0.77      6393\n",
            "weighted avg       0.96      0.96      0.95      6393\n",
            "\n"
          ]
        }
      ]
    },
    {
      "cell_type": "markdown",
      "source": [
        "По сравнению с ComplementNB натретированном на tfidf, алгоритм натренированный на bag of words показал результаты лучше. macro avg выше на 19%"
      ],
      "metadata": {
        "id": "jDMyqLUH1rwy"
      }
    },
    {
      "cell_type": "code",
      "source": [
        ""
      ],
      "metadata": {
        "id": "JGjqrNLL1rwy"
      },
      "execution_count": null,
      "outputs": []
    },
    {
      "cell_type": "markdown",
      "source": [
        "Решение с помощью BernoulliNB с настройкой параметров"
      ],
      "metadata": {
        "id": "1jSL8TPA1rwy"
      }
    },
    {
      "cell_type": "code",
      "source": [
        "nb_pipe=Pipeline(steps=[(\"cve\",CountVectorizer(stop_words=stopWords[:25],binary=True)),(\"bnb\",BernoulliNB())])\n",
        "params={\n",
        "    \"cve__ngram_range\":[(1,1),(1,2),(1,3)],\n",
        "    \"bnb__alpha\":[0,1,2,3,4]\n",
        "}\n",
        "gs_bmb=GridSearchCV(nb_pipe,params,cv=5,n_jobs=-1)"
      ],
      "metadata": {
        "id": "B2jKwJMA1rwy"
      },
      "execution_count": null,
      "outputs": []
    },
    {
      "cell_type": "code",
      "source": [
        "gs_bmb=gs_bmb.fit(X_train,y_train)"
      ],
      "metadata": {
        "colab": {
          "base_uri": "https://localhost:8080/"
        },
        "outputId": "4c448527-f1ae-43c3-ed0d-f14e1a33495d",
        "id": "GNgZqgaj1rwy"
      },
      "execution_count": null,
      "outputs": [
        {
          "output_type": "stream",
          "name": "stderr",
          "text": [
            "/usr/local/lib/python3.7/dist-packages/sklearn/feature_extraction/text.py:401: UserWarning: Your stop_words may be inconsistent with your preprocessing. Tokenizing the stop words generated tokens ['ll', 're', 've'] not in stop_words.\n",
            "  % sorted(inconsistent)\n",
            "/usr/local/lib/python3.7/dist-packages/sklearn/naive_bayes.py:557: UserWarning: alpha too small will result in numeric errors, setting alpha = 1.0e-10\n",
            "  % _ALPHA_MIN\n"
          ]
        }
      ]
    },
    {
      "cell_type": "code",
      "source": [
        "gs_bmb.best_params_"
      ],
      "metadata": {
        "colab": {
          "base_uri": "https://localhost:8080/"
        },
        "outputId": "8fb51120-e179-49d6-acf9-f2bc6efacc1f",
        "id": "bBSFlrgO1rwz"
      },
      "execution_count": null,
      "outputs": [
        {
          "output_type": "execute_result",
          "data": {
            "text/plain": [
              "{'bnb__alpha': 0, 'cve__ngram_range': (1, 2)}"
            ]
          },
          "metadata": {},
          "execution_count": 78
        }
      ]
    },
    {
      "cell_type": "code",
      "source": [
        "y_hat=gs_bmb.predict(X_test)\n",
        "print(classification_report(y_test,y_hat))"
      ],
      "metadata": {
        "colab": {
          "base_uri": "https://localhost:8080/"
        },
        "outputId": "a261f6eb-afea-4317-c61d-f8bd1cbc3979",
        "id": "JqKH09Ll1rwz"
      },
      "execution_count": null,
      "outputs": [
        {
          "output_type": "stream",
          "name": "stdout",
          "text": [
            "              precision    recall  f1-score   support\n",
            "\n",
            "           0       0.97      1.00      0.98      5945\n",
            "           1       0.89      0.55      0.68       448\n",
            "\n",
            "    accuracy                           0.96      6393\n",
            "   macro avg       0.93      0.77      0.83      6393\n",
            "weighted avg       0.96      0.96      0.96      6393\n",
            "\n"
          ]
        }
      ]
    },
    {
      "cell_type": "markdown",
      "source": [
        "По сравнению с BernoulliNB натретированном на tfidf, алгоритм натренированный на bag of words показал точно такие же"
      ],
      "metadata": {
        "id": "fEBhi-G11rwz"
      }
    },
    {
      "cell_type": "markdown",
      "source": [
        "<p><h3>Вывод</h3></p>\n",
        "После кодирования методом Bag of words результаты алгоритмов или значительно улучшились или остальись точно такими же"
      ],
      "metadata": {
        "id": "arrDqEmf1rwz"
      }
    },
    {
      "cell_type": "code",
      "source": [
        ""
      ],
      "metadata": {
        "id": "uHYoWo7r32qG"
      },
      "execution_count": null,
      "outputs": []
    },
    {
      "cell_type": "code",
      "source": [
        ""
      ],
      "metadata": {
        "id": "Jyz3kNDp32sk"
      },
      "execution_count": null,
      "outputs": []
    },
    {
      "cell_type": "markdown",
      "source": [
        "После проделанной работы я выяснил, что лучший прирост качества давали CountVectorize кодирование и ADASYN, объеденим их"
      ],
      "metadata": {
        "id": "WqltmGMQ33Nx"
      }
    },
    {
      "cell_type": "code",
      "source": [
        "tv=CountVectorizer(stop_words=stopWords[:25],ngram_range=(1,1))\n",
        "tv=tv.fit(df_train['tweet'])"
      ],
      "metadata": {
        "colab": {
          "base_uri": "https://localhost:8080/"
        },
        "outputId": "fd79b0ea-eae5-474d-9821-ef13ac7629be",
        "id": "Aez0krA55JLM"
      },
      "execution_count": 31,
      "outputs": [
        {
          "output_type": "stream",
          "name": "stderr",
          "text": [
            "/usr/local/lib/python3.7/dist-packages/sklearn/feature_extraction/text.py:401: UserWarning: Your stop_words may be inconsistent with your preprocessing. Tokenizing the stop words generated tokens ['ll', 're', 've'] not in stop_words.\n",
            "  % sorted(inconsistent)\n"
          ]
        }
      ]
    },
    {
      "cell_type": "code",
      "source": [
        "X_train_tf_idf = tv.transform(X_train)\n",
        "X_test_tf_idf = tv.transform(X_test)"
      ],
      "metadata": {
        "id": "Axtk5AsG5JLO"
      },
      "execution_count": 32,
      "outputs": []
    },
    {
      "cell_type": "code",
      "source": [
        "sum(y_train),len(y_train)- sum(y_train)"
      ],
      "metadata": {
        "colab": {
          "base_uri": "https://localhost:8080/"
        },
        "outputId": "3ac4aae0-4c17-4728-d453-c81aae1ed749",
        "id": "fOuOrUG25JLO"
      },
      "execution_count": 33,
      "outputs": [
        {
          "output_type": "execute_result",
          "data": {
            "text/plain": [
              "(1794, 23775)"
            ]
          },
          "metadata": {},
          "execution_count": 33
        }
      ]
    },
    {
      "cell_type": "code",
      "source": [
        "ad=ADASYN()\n",
        "X_train_tf_idf_adasyn,y_train_adasyn=ad.fit_resample(X_train_tf_idf,y_train)"
      ],
      "metadata": {
        "id": "H_kBvY6v5JLO"
      },
      "execution_count": 35,
      "outputs": []
    },
    {
      "cell_type": "code",
      "source": [
        "sum(y_train_adasyn),len(y_train_adasyn)- sum(y_train_adasyn)"
      ],
      "metadata": {
        "colab": {
          "base_uri": "https://localhost:8080/"
        },
        "outputId": "7cf251f9-a9ed-44b8-9b3d-bfbc0c498944",
        "id": "edFYoIvL5JLO"
      },
      "execution_count": 36,
      "outputs": [
        {
          "output_type": "execute_result",
          "data": {
            "text/plain": [
              "(23862, 23775)"
            ]
          },
          "metadata": {},
          "execution_count": 36
        }
      ]
    },
    {
      "cell_type": "code",
      "source": [
        ""
      ],
      "metadata": {
        "id": "wuaNRVVE5hvb"
      },
      "execution_count": null,
      "outputs": []
    },
    {
      "cell_type": "markdown",
      "source": [
        "MultinomialNB"
      ],
      "metadata": {
        "id": "CiFPgPLWPX2_"
      }
    },
    {
      "cell_type": "code",
      "source": [
        "mnb=MultinomialNB()\n",
        "mnb=mnb.fit(X_train_tf_idf_adasyn,y_train_adasyn)"
      ],
      "metadata": {
        "id": "qRZnwMpU58hm"
      },
      "execution_count": 37,
      "outputs": []
    },
    {
      "cell_type": "code",
      "source": [
        "y_hat=mnb.predict(X_test_tf_idf)\n",
        "print(classification_report(y_test,y_hat))"
      ],
      "metadata": {
        "colab": {
          "base_uri": "https://localhost:8080/"
        },
        "outputId": "8193b206-e68f-40b0-f032-e591d33b5180",
        "id": "NP--m40K58hp"
      },
      "execution_count": 38,
      "outputs": [
        {
          "output_type": "stream",
          "name": "stdout",
          "text": [
            "              precision    recall  f1-score   support\n",
            "\n",
            "           0       0.98      0.92      0.95      5945\n",
            "           1       0.42      0.76      0.54       448\n",
            "\n",
            "    accuracy                           0.91      6393\n",
            "   macro avg       0.70      0.84      0.74      6393\n",
            "weighted avg       0.94      0.91      0.92      6393\n",
            "\n"
          ]
        }
      ]
    },
    {
      "cell_type": "markdown",
      "source": [
        "MultinomialNB macro avg упало на 3%"
      ],
      "metadata": {
        "id": "Zixy75OBPCM6"
      }
    },
    {
      "cell_type": "code",
      "source": [
        ""
      ],
      "metadata": {
        "id": "buVA4aLO6aeq"
      },
      "execution_count": null,
      "outputs": []
    },
    {
      "cell_type": "markdown",
      "source": [
        "ComplementNB"
      ],
      "metadata": {
        "id": "UBoMvkIoPWun"
      }
    },
    {
      "cell_type": "code",
      "source": [
        "cnb=ComplementNB()\n",
        "cnb=cnb.fit(X_train_tf_idf_adasyn,y_train_adasyn)"
      ],
      "metadata": {
        "id": "wBzpmmO-58hq"
      },
      "execution_count": 39,
      "outputs": []
    },
    {
      "cell_type": "code",
      "source": [
        "y_hat=cnb.predict(X_test_tf_idf)\n",
        "print(classification_report(y_test,y_hat))"
      ],
      "metadata": {
        "colab": {
          "base_uri": "https://localhost:8080/"
        },
        "outputId": "0178c60f-8e21-4cec-ef41-dfa68d3450f7",
        "id": "ipjS7Lez58hr"
      },
      "execution_count": 40,
      "outputs": [
        {
          "output_type": "stream",
          "name": "stdout",
          "text": [
            "              precision    recall  f1-score   support\n",
            "\n",
            "           0       0.98      0.92      0.95      5945\n",
            "           1       0.42      0.76      0.54       448\n",
            "\n",
            "    accuracy                           0.91      6393\n",
            "   macro avg       0.70      0.84      0.74      6393\n",
            "weighted avg       0.94      0.91      0.92      6393\n",
            "\n"
          ]
        }
      ]
    },
    {
      "cell_type": "markdown",
      "source": [
        "ComplementNB macro avg упало на 3%"
      ],
      "metadata": {
        "id": "-UifMBCnPPR7"
      }
    },
    {
      "cell_type": "code",
      "source": [
        ""
      ],
      "metadata": {
        "id": "xH9zHlEB6jUm"
      },
      "execution_count": null,
      "outputs": []
    },
    {
      "cell_type": "markdown",
      "source": [
        "BernoulliNB"
      ],
      "metadata": {
        "id": "u2mR3IzTPbA6"
      }
    },
    {
      "cell_type": "code",
      "source": [
        "tv_for_bernulli=CountVectorizer(stop_words=stopWords[:25],ngram_range=(1,1))\n",
        "tv_for_bernulli=tv_for_bernulli.fit(df_train['tweet'])"
      ],
      "metadata": {
        "colab": {
          "base_uri": "https://localhost:8080/"
        },
        "outputId": "ed9563eb-1428-4057-cba3-993a506b833b",
        "id": "Den98ATe58hr"
      },
      "execution_count": 51,
      "outputs": [
        {
          "output_type": "stream",
          "name": "stderr",
          "text": [
            "/usr/local/lib/python3.7/dist-packages/sklearn/feature_extraction/text.py:401: UserWarning: Your stop_words may be inconsistent with your preprocessing. Tokenizing the stop words generated tokens ['ll', 're', 've'] not in stop_words.\n",
            "  % sorted(inconsistent)\n"
          ]
        }
      ]
    },
    {
      "cell_type": "code",
      "source": [
        "X_train_tf_idf_bern = tv_for_bernulli.transform(X_train)\n",
        "X_test_tf_idf_bern = tv_for_bernulli.transform(X_test)"
      ],
      "metadata": {
        "id": "4Nfkouwb58hr"
      },
      "execution_count": 52,
      "outputs": []
    },
    {
      "cell_type": "code",
      "source": [
        "ad=ADASYN()\n",
        "X_train_tf_idf_adasyn_bern,y_train_adasyn_bern=ad.fit_resample(X_train_tf_idf_bern,y_train)"
      ],
      "metadata": {
        "id": "Dz1dGDOs58hr"
      },
      "execution_count": 53,
      "outputs": []
    },
    {
      "cell_type": "code",
      "source": [
        "bnb=BernoulliNB()\n",
        "bnb=bnb.fit(X_train_tf_idf_adasyn_bern,y_train_adasyn_bern)"
      ],
      "metadata": {
        "id": "MfnBL2W558hs"
      },
      "execution_count": 54,
      "outputs": []
    },
    {
      "cell_type": "code",
      "source": [
        "y_hat=bnb.predict(X_test_tf_idf_bern)\n",
        "print(classification_report(y_test,y_hat))"
      ],
      "metadata": {
        "colab": {
          "base_uri": "https://localhost:8080/"
        },
        "outputId": "5a48a8d9-8f3d-485e-d583-246fe0fc9135",
        "id": "YiwMW5c158hs"
      },
      "execution_count": 55,
      "outputs": [
        {
          "output_type": "stream",
          "name": "stdout",
          "text": [
            "              precision    recall  f1-score   support\n",
            "\n",
            "           0       0.97      0.91      0.94      5945\n",
            "           1       0.32      0.58      0.41       448\n",
            "\n",
            "    accuracy                           0.88      6393\n",
            "   macro avg       0.64      0.75      0.67      6393\n",
            "weighted avg       0.92      0.88      0.90      6393\n",
            "\n"
          ]
        }
      ]
    },
    {
      "cell_type": "markdown",
      "source": [
        "BernoulliNB macro avg упало на 17%"
      ],
      "metadata": {
        "id": "2cRQzaBMP80p"
      }
    },
    {
      "cell_type": "code",
      "source": [
        ""
      ],
      "metadata": {
        "id": "ZfFIMqoq6n-z"
      },
      "execution_count": null,
      "outputs": []
    },
    {
      "cell_type": "markdown",
      "source": [
        "LogisticRegression"
      ],
      "metadata": {
        "id": "qmPramqcQaBL"
      }
    },
    {
      "cell_type": "code",
      "source": [
        "tv=CountVectorizer(stop_words=stopWords[:25],ngram_range=(1,2))\n",
        "tv=tv.fit(df_train['tweet'])"
      ],
      "metadata": {
        "colab": {
          "base_uri": "https://localhost:8080/"
        },
        "outputId": "16ab7d14-716d-4d6f-e7b8-69c542b90ea8",
        "id": "pCEhjUW36pIm"
      },
      "execution_count": null,
      "outputs": [
        {
          "output_type": "stream",
          "name": "stderr",
          "text": [
            "/usr/local/lib/python3.7/dist-packages/sklearn/feature_extraction/text.py:401: UserWarning: Your stop_words may be inconsistent with your preprocessing. Tokenizing the stop words generated tokens ['ll', 're', 've'] not in stop_words.\n",
            "  % sorted(inconsistent)\n"
          ]
        }
      ]
    },
    {
      "cell_type": "code",
      "source": [
        "X_train_tf_idf = tv.transform(X_train)\n",
        "X_test_tf_idf = tv.transform(X_test)"
      ],
      "metadata": {
        "id": "PYh_9XiB6pIm"
      },
      "execution_count": null,
      "outputs": []
    },
    {
      "cell_type": "code",
      "source": [
        "sum(y_train),len(y_train)- sum(y_train)"
      ],
      "metadata": {
        "colab": {
          "base_uri": "https://localhost:8080/"
        },
        "outputId": "1ec4b484-a511-445c-dbf6-ee4944366828",
        "id": "WuKRqB976pIm"
      },
      "execution_count": null,
      "outputs": [
        {
          "output_type": "execute_result",
          "data": {
            "text/plain": [
              "(1794, 23775)"
            ]
          },
          "metadata": {},
          "execution_count": 124
        }
      ]
    },
    {
      "cell_type": "code",
      "source": [
        "ad=ADASYN()\n",
        "X_train_tf_idf_adasyn,y_train_adasyn=ad.fit_resample(X_train_tf_idf,y_train)"
      ],
      "metadata": {
        "id": "YXUlOe_T6pIm"
      },
      "execution_count": null,
      "outputs": []
    },
    {
      "cell_type": "code",
      "source": [
        "clf=LogisticRegression()\n",
        "clf=clf.fit(X_train_tf_idf_adasyn,y_train_adasyn)"
      ],
      "metadata": {
        "colab": {
          "base_uri": "https://localhost:8080/"
        },
        "id": "kGEXnPCx58ht",
        "outputId": "a22543de-7fa9-46eb-dc08-a326effc39f5"
      },
      "execution_count": null,
      "outputs": [
        {
          "output_type": "stream",
          "name": "stderr",
          "text": [
            "/usr/local/lib/python3.7/dist-packages/sklearn/linear_model/_logistic.py:818: ConvergenceWarning: lbfgs failed to converge (status=1):\n",
            "STOP: TOTAL NO. of ITERATIONS REACHED LIMIT.\n",
            "\n",
            "Increase the number of iterations (max_iter) or scale the data as shown in:\n",
            "    https://scikit-learn.org/stable/modules/preprocessing.html\n",
            "Please also refer to the documentation for alternative solver options:\n",
            "    https://scikit-learn.org/stable/modules/linear_model.html#logistic-regression\n",
            "  extra_warning_msg=_LOGISTIC_SOLVER_CONVERGENCE_MSG,\n"
          ]
        }
      ]
    },
    {
      "cell_type": "code",
      "source": [
        "y_hat=clf.predict(X_test_tf_idf)\n",
        "print(classification_report(y_test,y_hat))"
      ],
      "metadata": {
        "colab": {
          "base_uri": "https://localhost:8080/"
        },
        "outputId": "6d5794ec-c44a-40ab-aaa5-55d2c286dc6c",
        "id": "cM6TovgU58ht"
      },
      "execution_count": null,
      "outputs": [
        {
          "output_type": "stream",
          "name": "stdout",
          "text": [
            "              precision    recall  f1-score   support\n",
            "\n",
            "           0       0.97      0.93      0.95      5945\n",
            "           1       0.40      0.66      0.50       448\n",
            "\n",
            "    accuracy                           0.91      6393\n",
            "   macro avg       0.69      0.79      0.72      6393\n",
            "weighted avg       0.93      0.91      0.92      6393\n",
            "\n"
          ]
        }
      ]
    },
    {
      "cell_type": "markdown",
      "source": [
        "LogisticRegression macro avg упало на 17%"
      ],
      "metadata": {
        "id": "R5MyGVJmQcZ0"
      }
    },
    {
      "cell_type": "markdown",
      "source": [
        "<p><h3>Вывод</h3></p>\n",
        "Скрещивание ADASYN и CountVectorize не дало положительных результатов"
      ],
      "metadata": {
        "id": "49HKsQTC6vv5"
      }
    },
    {
      "cell_type": "code",
      "source": [
        ""
      ],
      "metadata": {
        "id": "jL3T2_Kd5hx6"
      },
      "execution_count": null,
      "outputs": []
    },
    {
      "cell_type": "markdown",
      "source": [
        "Попробуем визуализировать закодированные предложения с помощью tfidf методами PCA и TSNE"
      ],
      "metadata": {
        "id": "_KSnzW8caHib"
      }
    },
    {
      "cell_type": "code",
      "source": [
        "from sklearn.decomposition import PCA\n",
        "from sklearn.manifold import TSNE\n",
        "from sklearn.feature_extraction.text import TfidfVectorizer"
      ],
      "metadata": {
        "id": "OAMl-ZfS5h0V"
      },
      "execution_count": 95,
      "outputs": []
    },
    {
      "cell_type": "code",
      "source": [
        "tv=TfidfVectorizer(stop_words=stopWords[:25])\n",
        "tv=tv.fit(df_train['tweet'])"
      ],
      "metadata": {
        "colab": {
          "base_uri": "https://localhost:8080/"
        },
        "id": "_EdMUuDjRTIW",
        "outputId": "ffc68649-f8a3-4d8a-ef71-f320624b959a"
      },
      "execution_count": 96,
      "outputs": [
        {
          "output_type": "stream",
          "name": "stderr",
          "text": [
            "/usr/local/lib/python3.7/dist-packages/sklearn/feature_extraction/text.py:401: UserWarning: Your stop_words may be inconsistent with your preprocessing. Tokenizing the stop words generated tokens ['ll', 're', 've'] not in stop_words.\n",
            "  % sorted(inconsistent)\n"
          ]
        }
      ]
    },
    {
      "cell_type": "code",
      "source": [
        "df_class_0=df_train[df_train['label']==0][:400]\n",
        "df_class_1=df_train[df_train['label']==1][:400]\n",
        "\n",
        "df_class_0_1=pd.concat([df_class_0,df_class_1])\n",
        "\n",
        "x_vect_0_1 = tv.fit_transform(df_class_0_1['tweet'])"
      ],
      "metadata": {
        "id": "Kfs9CZZiU8tw"
      },
      "execution_count": 97,
      "outputs": []
    },
    {
      "cell_type": "code",
      "source": [
        "pca=PCA(3)"
      ],
      "metadata": {
        "id": "atdi2ftMSd-A"
      },
      "execution_count": 88,
      "outputs": []
    },
    {
      "cell_type": "code",
      "source": [
        "X_tf_idf_3=pca.fit_transform(x_vect_0_1.toarray())"
      ],
      "metadata": {
        "id": "pPSZjv76SiBZ"
      },
      "execution_count": 90,
      "outputs": []
    },
    {
      "cell_type": "code",
      "source": [
        "import matplotlib.pyplot as plt"
      ],
      "metadata": {
        "id": "G9SVEg4rYPUJ"
      },
      "execution_count": 82,
      "outputs": []
    },
    {
      "cell_type": "code",
      "source": [
        "fig = plt.figure(figsize=(10, 8))\n",
        "ax = fig.add_subplot(111, projection='3d')\n",
        "ax.view_init(30, 70)\n",
        "ax.scatter(X_tf_idf_3.T[0], X_tf_idf_3.T[1], X_tf_idf_3.T[2], c=df_class_0_1['label'])\n",
        "ax.set_xlabel('PC1', fontsize=20)\n",
        "ax.set_ylabel('PC2', fontsize=20)\n",
        "ax.set_zlabel('PC3', fontsize=20)"
      ],
      "metadata": {
        "colab": {
          "base_uri": "https://localhost:8080/",
          "height": 484
        },
        "id": "lvgp5a4oSoOX",
        "outputId": "c804db79-bb94-4f2d-996b-4136c5833c70"
      },
      "execution_count": 94,
      "outputs": [
        {
          "output_type": "execute_result",
          "data": {
            "text/plain": [
              "Text(0.5, 0, 'PC3')"
            ]
          },
          "metadata": {},
          "execution_count": 94
        },
        {
          "output_type": "display_data",
          "data": {
            "text/plain": [
              "<Figure size 720x576 with 1 Axes>"
            ],
            "image/png": "[encoded data removed]"
          },
          "metadata": {
            "needs_background": "light"
          }
        }
      ]
    },
    {
      "cell_type": "code",
      "source": [
        ""
      ],
      "metadata": {
        "id": "b-GQU5YFZZ-E"
      },
      "execution_count": null,
      "outputs": []
    },
    {
      "cell_type": "code",
      "source": [
        "pca=PCA(2)"
      ],
      "metadata": {
        "id": "1WHuDd4uZaQB"
      },
      "execution_count": 98,
      "outputs": []
    },
    {
      "cell_type": "code",
      "source": [
        "X_tf_idf_2=pca.fit_transform(x_vect_0_1.toarray())"
      ],
      "metadata": {
        "id": "ucMrlT3HZaQB"
      },
      "execution_count": 99,
      "outputs": []
    },
    {
      "cell_type": "code",
      "source": [
        "import matplotlib.pyplot as plt"
      ],
      "metadata": {
        "id": "XrkqkiZsZaQB"
      },
      "execution_count": 100,
      "outputs": []
    },
    {
      "cell_type": "code",
      "source": [
        "fig = plt.figure(figsize=(10, 8))\n",
        "plt.scatter(X_tf_idf_2.T[0], X_tf_idf_2.T[1], c=df_class_0_1['label'])"
      ],
      "metadata": {
        "colab": {
          "base_uri": "https://localhost:8080/",
          "height": 501
        },
        "outputId": "97133e53-6cbe-40f6-eb33-57a3c869c86c",
        "id": "TaKF2eG7ZaQC"
      },
      "execution_count": 105,
      "outputs": [
        {
          "output_type": "execute_result",
          "data": {
            "text/plain": [
              "<matplotlib.collections.PathCollection at 0x7f176ed69890>"
            ]
          },
          "metadata": {},
          "execution_count": 105
        },
        {
          "output_type": "display_data",
          "data": {
            "text/plain": [
              "<Figure size 720x576 with 1 Axes>"
            ],
            "image/png": "[encoded data removed]"
          },
          "metadata": {
            "needs_background": "light"
          }
        }
      ]
    },
    {
      "cell_type": "code",
      "source": [
        ""
      ],
      "metadata": {
        "id": "Uli-CI54Zvbx"
      },
      "execution_count": null,
      "outputs": []
    },
    {
      "cell_type": "code",
      "source": [
        ""
      ],
      "metadata": {
        "id": "dBlRz46yZvfE"
      },
      "execution_count": null,
      "outputs": []
    },
    {
      "cell_type": "code",
      "source": [
        "tsne=TSNE(2)"
      ],
      "metadata": {
        "id": "2SXSoTk2ZvmF"
      },
      "execution_count": 106,
      "outputs": []
    },
    {
      "cell_type": "code",
      "source": [
        "X_tf_idf_2=tsne.fit_transform(x_vect_0_1.toarray())"
      ],
      "metadata": {
        "colab": {
          "base_uri": "https://localhost:8080/"
        },
        "id": "q24doUgaZvmF",
        "outputId": "f9f0f9e1-d8d1-45a8-fdbc-477f2f2a4184"
      },
      "execution_count": 107,
      "outputs": [
        {
          "output_type": "stream",
          "name": "stderr",
          "text": [
            "/usr/local/lib/python3.7/dist-packages/sklearn/manifold/_t_sne.py:783: FutureWarning: The default initialization in TSNE will change from 'random' to 'pca' in 1.2.\n",
            "  FutureWarning,\n",
            "/usr/local/lib/python3.7/dist-packages/sklearn/manifold/_t_sne.py:793: FutureWarning: The default learning rate in TSNE will change from 200.0 to 'auto' in 1.2.\n",
            "  FutureWarning,\n"
          ]
        }
      ]
    },
    {
      "cell_type": "code",
      "source": [
        "import matplotlib.pyplot as plt"
      ],
      "metadata": {
        "id": "C8MW4VNzZvmF"
      },
      "execution_count": 108,
      "outputs": []
    },
    {
      "cell_type": "code",
      "source": [
        "fig = plt.figure(figsize=(10, 8))\n",
        "plt.scatter(X_tf_idf_2.T[0], X_tf_idf_2.T[1], c=df_class_0_1['label'])"
      ],
      "metadata": {
        "colab": {
          "base_uri": "https://localhost:8080/",
          "height": 501
        },
        "outputId": "209a90c2-d1dd-44a8-c0d8-1fb17117082a",
        "id": "1qpbnL-tZvmF"
      },
      "execution_count": 109,
      "outputs": [
        {
          "output_type": "execute_result",
          "data": {
            "text/plain": [
              "<matplotlib.collections.PathCollection at 0x7f176eedf510>"
            ]
          },
          "metadata": {},
          "execution_count": 109
        },
        {
          "output_type": "display_data",
          "data": {
            "text/plain": [
              "<Figure size 720x576 with 1 Axes>"
            ],
            "image/png": "[encoded data removed]"
          },
          "metadata": {
            "needs_background": "light"
          }
        }
      ]
    },
    {
      "cell_type": "code",
      "source": [
        ""
      ],
      "metadata": {
        "id": "3o6F_i0kZq91"
      },
      "execution_count": null,
      "outputs": []
    },
    {
      "cell_type": "code",
      "source": [
        ""
      ],
      "metadata": {
        "id": "1qKO8oBuZ-YL"
      },
      "execution_count": null,
      "outputs": []
    },
    {
      "cell_type": "code",
      "source": [
        "tsne=TSNE(3)"
      ],
      "metadata": {
        "id": "8-yQomc0Z-eg"
      },
      "execution_count": 110,
      "outputs": []
    },
    {
      "cell_type": "code",
      "source": [
        "X_tf_idf_3=tsne.fit_transform(x_vect_0_1.toarray())"
      ],
      "metadata": {
        "colab": {
          "base_uri": "https://localhost:8080/"
        },
        "id": "07nRe3VfZ-eh",
        "outputId": "00ad4a92-827b-4104-c536-1f0531b7c37e"
      },
      "execution_count": 111,
      "outputs": [
        {
          "output_type": "stream",
          "name": "stderr",
          "text": [
            "/usr/local/lib/python3.7/dist-packages/sklearn/manifold/_t_sne.py:783: FutureWarning: The default initialization in TSNE will change from 'random' to 'pca' in 1.2.\n",
            "  FutureWarning,\n",
            "/usr/local/lib/python3.7/dist-packages/sklearn/manifold/_t_sne.py:793: FutureWarning: The default learning rate in TSNE will change from 200.0 to 'auto' in 1.2.\n",
            "  FutureWarning,\n"
          ]
        }
      ]
    },
    {
      "cell_type": "code",
      "source": [
        "import matplotlib.pyplot as plt"
      ],
      "metadata": {
        "id": "4JM72JGXZ-eh"
      },
      "execution_count": 112,
      "outputs": []
    },
    {
      "cell_type": "code",
      "source": [
        "fig = plt.figure(figsize=(10, 8))\n",
        "ax = fig.add_subplot(111, projection='3d')\n",
        "ax.view_init(30, 70)\n",
        "ax.scatter(X_tf_idf_3.T[0], X_tf_idf_3.T[1], X_tf_idf_3.T[2], c=df_class_0_1['label'])\n",
        "ax.set_xlabel('PC1', fontsize=20)\n",
        "ax.set_ylabel('PC2', fontsize=20)\n",
        "ax.set_zlabel('PC3', fontsize=20)"
      ],
      "metadata": {
        "colab": {
          "base_uri": "https://localhost:8080/",
          "height": 484
        },
        "outputId": "00f83bec-1ecb-427e-d7fb-49a25990e591",
        "id": "EzSKjJneZ-eh"
      },
      "execution_count": 113,
      "outputs": [
        {
          "output_type": "execute_result",
          "data": {
            "text/plain": [
              "Text(0.5, 0, 'PC3')"
            ]
          },
          "metadata": {},
          "execution_count": 113
        },
        {
          "output_type": "display_data",
          "data": {
            "text/plain": [
              "<Figure size 720x576 with 1 Axes>"
            ],
            "image/png": "[encoded data removed]"
          },
          "metadata": {
            "needs_background": "light"
          }
        }
      ]
    },
    {
      "cell_type": "markdown",
      "source": [
        "Как видно из кодировки, предложения плохо отображаются в 2d и в 3d c помощью tsne и pca"
      ],
      "metadata": {
        "id": "iHF3qUh5acfk"
      }
    },
    {
      "cell_type": "code",
      "source": [
        ""
      ],
      "metadata": {
        "id": "5qdVlvEna8_G"
      },
      "execution_count": null,
      "outputs": []
    },
    {
      "cell_type": "code",
      "source": [
        ""
      ],
      "metadata": {
        "id": "vE7eVJOLa9Bt"
      },
      "execution_count": null,
      "outputs": []
    },
    {
      "cell_type": "markdown",
      "source": [
        "<p><h3>Вывод</h3></p>\n",
        "<h4>После проделанной работы я могу сделать вывод, что алгоритмы показали неплохие macro avg, обычная логическая регрессия показала лучший результат. После применения ADASYN результаты алгоритмов выросли значительно, а TomekLinks только ухушил резуьтат. С помощью PCA и  TSNE не получилось отобразить предложения так как это было задумано: чтобы в одной стороне был один класс, а в другой другой. Так же на этих данных bag of words и CountVectorize показали наилучшие рзультаты.</h4>"
      ],
      "metadata": {
        "id": "AAYtA30fbgE2"
      }
    }
  ]
}